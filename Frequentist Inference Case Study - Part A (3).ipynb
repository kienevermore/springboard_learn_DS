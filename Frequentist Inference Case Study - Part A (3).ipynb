{
 "cells": [
  {
   "cell_type": "markdown",
   "metadata": {},
   "source": [
    "# Frequentist Inference Case Study - Part A "
   ]
  },
  {
   "cell_type": "markdown",
   "metadata": {},
   "source": [
    "## 1. Learning objectives"
   ]
  },
  {
   "cell_type": "markdown",
   "metadata": {},
   "source": [
    "Welcome to part A of the Frequentist inference case study! The purpose of this case study is to help you apply the concepts associated with Frequentist inference in Python. Frequentist inference is the process of deriving conclusions about an underlying distribution via the observation of data. In particular, you'll practice writing Python code to apply the following statistical concepts: \n",
    "* the _z_-statistic\n",
    "* the _t_-statistic\n",
    "* the difference and relationship between the two\n",
    "* the Central Limit Theorem, including its assumptions and consequences\n",
    "* how to estimate the population mean and standard deviation from a sample\n",
    "* the concept of a sampling distribution of a test statistic, particularly for the mean\n",
    "* how to combine these concepts to calculate a confidence interval"
   ]
  },
  {
   "cell_type": "markdown",
   "metadata": {},
   "source": [
    "## Prerequisites"
   ]
  },
  {
   "cell_type": "markdown",
   "metadata": {},
   "source": [
    "To be able to complete this notebook, you are expected to have a basic understanding of:\n",
    "* what a random variable is (p.400 of Professor Spiegelhalter's *The Art of Statistics, hereinafter AoS*)\n",
    "* what a population, and a population distribution, are (p. 397 of *AoS*)\n",
    "* a high-level sense of what the normal distribution is (p. 394 of *AoS*)\n",
    "* what the t-statistic is (p. 275 of *AoS*)\n",
    "\n",
    "Happily, these should all be concepts with which you are reasonably familiar after having read ten chapters of Professor Spiegelhalter's book, *The Art of Statistics*.\n",
    "\n",
    "We'll try to relate the concepts in this case study back to page numbers in *The Art of Statistics* so that you can focus on the Python aspects of this case study. The second part (part B) of this case study will involve another, more real-world application of these tools. "
   ]
  },
  {
   "cell_type": "markdown",
   "metadata": {},
   "source": [
    "For this notebook, we will use data sampled from a known normal distribution. This allows us to compare our results with theoretical expectations."
   ]
  },
  {
   "cell_type": "markdown",
   "metadata": {},
   "source": [
    "## 2. An introduction to sampling from the normal distribution"
   ]
  },
  {
   "cell_type": "markdown",
   "metadata": {},
   "source": [
    "First, let's explore the ways we can generate the normal distribution. While there's a fair amount of interest in [sklearn](https://scikit-learn.org/stable/) within the machine learning community, you're likely to have heard of [scipy](https://docs.scipy.org/doc/scipy-0.15.1/reference/index.html) if you're coming from the sciences. For this assignment, you'll use [scipy.stats](https://docs.scipy.org/doc/scipy-0.15.1/reference/tutorial/stats.html) to complete your work. \n",
    "\n",
    "This assignment will require some digging around and getting your hands dirty (your learning is maximized that way)! You should have the research skills and the tenacity to do these tasks independently, but if you struggle, reach out to your immediate community and your mentor for help. "
   ]
  },
  {
   "cell_type": "code",
   "execution_count": 1,
   "metadata": {},
   "outputs": [],
   "source": [
    "from scipy.stats import norm\n",
    "from scipy.stats import t\n",
    "import numpy as np\n",
    "import pandas as pd\n",
    "from numpy.random import seed\n",
    "import matplotlib.pyplot as plt"
   ]
  },
  {
   "cell_type": "markdown",
   "metadata": {},
   "source": [
    "__Q1:__ Call up the documentation for the `norm` function imported above. (Hint: that documentation is [here](https://docs.scipy.org/doc/scipy/reference/generated/scipy.stats.norm.html)). What is the second listed method?"
   ]
  },
  {
   "cell_type": "code",
   "execution_count": 2,
   "metadata": {},
   "outputs": [],
   "source": [
    "norm?"
   ]
  },
  {
   "cell_type": "markdown",
   "metadata": {},
   "source": [
    "__A:__  For the doc you gave:\n",
    "pdf(x, loc=0, scale=1)\n",
    "\n",
    "Probability density function.\n",
    "For the ? function:\n",
    "pdf(x, loc=0, scale=1)\n",
    "    Probability density function"
   ]
  },
  {
   "cell_type": "markdown",
   "metadata": {},
   "source": [
    "__Q2:__ Use the method that generates random variates to draw five samples from the standard normal distribution. "
   ]
  },
  {
   "cell_type": "markdown",
   "metadata": {},
   "source": [
    "__A:__"
   ]
  },
  {
   "cell_type": "code",
   "execution_count": 3,
   "metadata": {},
   "outputs": [
    {
     "name": "stdout",
     "output_type": "stream",
     "text": [
      "[-0.84800948  1.30590636  0.92420797  0.6404118  -1.05473698]\n"
     ]
    }
   ],
   "source": [
    "np.random.seed(47)\n",
    "# draw five samples here\n",
    "x = np.random.normal(size=5)\n",
    "print(x)"
   ]
  },
  {
   "cell_type": "code",
   "execution_count": 4,
   "metadata": {},
   "outputs": [
    {
     "name": "stdout",
     "output_type": "stream",
     "text": [
      "[0.11348847 0.97448309 0.72873463 0.35146781 0.70760514]\n"
     ]
    }
   ],
   "source": [
    "np.random.seed(47)\n",
    "#I am going to give a second answer here as the other one is a simple answer and this is more what we were taught:\n",
    "random_numbers = np.empty(5)\n",
    "for i in range(0,5):\n",
    "    random_numbers[i] = np.random.random()\n",
    "print(random_numbers)"
   ]
  },
  {
   "cell_type": "markdown",
   "metadata": {},
   "source": [
    "__Q3:__ What is the mean of this sample? Is it exactly equal to the value you expected? Hint: the sample was drawn from the standard normal distribution. If you want a reminder of the properties of this distribution, check out p. 85 of *AoS*. "
   ]
  },
  {
   "cell_type": "markdown",
   "metadata": {},
   "source": [
    "__A:__"
   ]
  },
  {
   "cell_type": "code",
   "execution_count": 5,
   "metadata": {},
   "outputs": [
    {
     "name": "stdout",
     "output_type": "stream",
     "text": [
      "For the simple option the mean is:   0.19355593334131074 ; for the more robust operation the mean is:   0.575155828796599\n"
     ]
    }
   ],
   "source": [
    "# Calculate and print the mean here, hint: use np.mean()\n",
    "xmn = np.mean(x)\n",
    "rnummean = np.mean(random_numbers)\n",
    "print('For the simple option the mean is:  ',xmn,'; for the more robust operation the mean is:  ',rnummean)"
   ]
  },
  {
   "cell_type": "markdown",
   "metadata": {},
   "source": [
    "__Q4:__ What is the standard deviation of these numbers? Calculate this manually here as $\\sqrt{\\frac{\\sum_i(x_i - \\bar{x})^2}{n}}$ (This is just the definition of **standard deviation** given by Professor Spiegelhalter on p.403 of *AoS*). Hint: np.sqrt() and np.sum() will be useful here and remember that numPy supports [broadcasting](https://docs.scipy.org/doc/numpy/user/basics.broadcasting.html)."
   ]
  },
  {
   "cell_type": "markdown",
   "metadata": {},
   "source": [
    "__A:__"
   ]
  },
  {
   "cell_type": "code",
   "execution_count": 6,
   "metadata": {},
   "outputs": [
    {
     "name": "stdout",
     "output_type": "stream",
     "text": [
      "The standard deviation of x is:   0.1921239127895728 ; and the devation of random numbers through a loop is:   0.012182145806848562\n"
     ]
    }
   ],
   "source": [
    "t1 = np.sqrt(np.mean(abs(x - xmn)**2))\n",
    "t=t1.sum()/5\n",
    "r2 = np.sqrt(np.mean(abs(random_numbers - rnummean)**2))/5\n",
    "r = r2.sum()/5\n",
    "\n",
    "print(\"The standard deviation of x is:  \",t,\"; and the devation of random numbers through a loop is:  \",r)\n"
   ]
  },
  {
   "cell_type": "markdown",
   "metadata": {},
   "source": [
    "Here we have calculated the actual standard deviation of a small data set (of size 5). But in this case, this small data set is actually a sample from our larger (infinite) population. In this case, the population is infinite because we could keep drawing our normal random variates until our computers die! \n",
    "\n",
    "In general, the sample mean we calculate will not be equal to the population mean (as we saw above). A consequence of this is that the sum of squares of the deviations from the _population_ mean will be bigger than the sum of squares of the deviations from the _sample_ mean. In other words, the sum of squares of the deviations from the _sample_ mean is too small to give an unbiased estimate of the _population_ variance. An example of this effect is given [here](https://en.wikipedia.org/wiki/Bessel%27s_correction#Source_of_bias). Scaling our estimate of the variance by the factor $n/(n-1)$ gives an unbiased estimator of the population variance. This factor is known as [Bessel's correction](https://en.wikipedia.org/wiki/Bessel%27s_correction). The consequence of this is that the $n$ in the denominator is replaced by $n-1$.\n",
    "\n",
    "You can see Bessel's correction reflected in Professor Spiegelhalter's definition of **variance** on p. 405 of *AoS*.\n",
    "\n",
    "__Q5:__ If all we had to go on was our five samples, what would be our best estimate of the population standard deviation? Use Bessel's correction ($n-1$ in the denominator), thus $\\sqrt{\\frac{\\sum_i(x_i - \\bar{x})^2}{n-1}}$."
   ]
  },
  {
   "cell_type": "markdown",
   "metadata": {},
   "source": [
    "__A:__"
   ]
  },
  {
   "cell_type": "code",
   "execution_count": 7,
   "metadata": {},
   "outputs": [
    {
     "name": "stdout",
     "output_type": "stream",
     "text": [
      "Per Bessel's correction, the standard deviation of x is:   0.24015489098696602 ; and the devation of random numbers through a loop is:   0.015227682258560703\n"
     ]
    }
   ],
   "source": [
    "xstb = t1.sum()/4\n",
    "rstb = r2.sum()/4\n",
    "print(\"Per Bessel's correction, the standard deviation of x is:  \",xstb,\"; and the devation of random numbers through a loop is:  \",rstb)"
   ]
  },
  {
   "cell_type": "markdown",
   "metadata": {},
   "source": [
    "__Q6:__ Now use numpy's std function to calculate the standard deviation of our random samples. Which of the above standard deviations did it return?"
   ]
  },
  {
   "cell_type": "markdown",
   "metadata": {},
   "source": [
    "__A:__For x neither showed the answer that this gave, for the looped random_numbers I see it closer to the second one but aproximately a .04 and .02 difference from each."
   ]
  },
  {
   "cell_type": "code",
   "execution_count": 8,
   "metadata": {},
   "outputs": [
    {
     "name": "stdout",
     "output_type": "stream",
     "text": [
      "Non Looped =  0.22110766492503628\n",
      "Looped =  0.3045536451712141\n"
     ]
    }
   ],
   "source": [
    "xstd = np.std(abs(x))\n",
    "rstd = np.std(abs(random_numbers))\n",
    "print('Non Looped = ',xstd)\n",
    "print('Looped = ',rstd)"
   ]
  },
  {
   "cell_type": "markdown",
   "metadata": {},
   "source": [
    "__Q7:__ Consult the documentation for np.std() to see how to apply the correction for estimating the population parameter and verify this produces the expected result."
   ]
  },
  {
   "cell_type": "markdown",
   "metadata": {},
   "source": [
    "__A:__"
   ]
  },
  {
   "cell_type": "code",
   "execution_count": 9,
   "metadata": {},
   "outputs": [],
   "source": [
    "np.std?"
   ]
  },
  {
   "cell_type": "code",
   "execution_count": 10,
   "metadata": {},
   "outputs": [
    {
     "name": "stdout",
     "output_type": "stream",
     "text": [
      "0.24720588455931355\n",
      "0.2780181690511638\n"
     ]
    }
   ],
   "source": [
    "xstd1 = np.std(abs(x),ddof=1)\n",
    "rstd1 = np.std(abs(random_numbers),ddof=-1)\n",
    "print(xstd1)\n",
    "print(rstd1)"
   ]
  },
  {
   "cell_type": "code",
   "execution_count": 11,
   "metadata": {},
   "outputs": [
    {
     "data": {
      "text/plain": [
       "(5,)"
      ]
     },
     "execution_count": 11,
     "metadata": {},
     "output_type": "execute_result"
    }
   ],
   "source": [
    "random_numbers.shape"
   ]
  },
  {
   "cell_type": "markdown",
   "metadata": {},
   "source": [
    "The full random rather than the one that went through a loop worked better here.  I erased the code earlier, but it might have calculated a little wrong, where I used a loop to do the value - the mean **2.  That turned out very wrong."
   ]
  },
  {
   "cell_type": "markdown",
   "metadata": {},
   "source": [
    "### Summary of section"
   ]
  },
  {
   "cell_type": "markdown",
   "metadata": {},
   "source": [
    "In this section, you've been introduced to the scipy.stats package and used it to draw a small sample from the standard normal distribution. You've calculated the average (the mean) of this sample and seen that this is not exactly equal to the expected population parameter (which we know because we're generating the random variates from a specific, known distribution). You've been introduced to two ways of calculating the standard deviation; one uses $n$ in the denominator and the other uses $n-1$ (Bessel's correction). You've also seen which of these calculations np.std() performs by default and how to get it to generate the other."
   ]
  },
  {
   "cell_type": "markdown",
   "metadata": {},
   "source": [
    "You use $n$ as the denominator if you want to calculate the standard deviation of a sequence of numbers. You use $n-1$ if you are using this sequence of numbers to estimate the population parameter. This brings us to some terminology that can be a little confusing.\n",
    "\n",
    "The population parameter is traditionally written as $\\sigma$ and the sample statistic as $s$. Rather unhelpfully, $s$ is also called the sample standard deviation (using $n-1$) whereas the standard deviation of the sample uses $n$. That's right, we have the sample standard deviation and the standard deviation of the sample and they're not the same thing!\n",
    "\n",
    "The sample standard deviation\n",
    "\\begin{equation}\n",
    "s = \\sqrt{\\frac{\\sum_i(x_i - \\bar{x})^2}{n-1}} \\approx \\sigma,\n",
    "\\end{equation}\n",
    "is our best (unbiased) estimate of the population parameter ($\\sigma$).\n",
    "\n",
    "If your dataset _is_ your entire population, you simply want to calculate the population parameter, $\\sigma$, via\n",
    "\\begin{equation}\n",
    "\\sigma = \\sqrt{\\frac{\\sum_i(x_i - \\bar{x})^2}{n}}\n",
    "\\end{equation}\n",
    "as you have complete, full knowledge of your population. In other words, your sample _is_ your population. It's worth noting that we're dealing with what Professor Spiegehalter describes on p. 92 of *AoS* as a **metaphorical population**: we have all the data, and we act as if the data-point is taken from a population at random. We can think of this population as an imaginary space of possibilities. \n",
    "\n",
    "If, however, you have sampled _from_ your population, you only have partial knowledge of the state of your population. In this case, the standard deviation of your sample is not an unbiased estimate of the standard deviation of the population, in which case you seek to estimate that population parameter via the sample standard deviation, which uses the $n-1$ denominator."
   ]
  },
  {
   "cell_type": "markdown",
   "metadata": {},
   "source": [
    "Great work so far! Now let's dive deeper."
   ]
  },
  {
   "cell_type": "markdown",
   "metadata": {},
   "source": [
    "## 3. Sampling distributions"
   ]
  },
  {
   "cell_type": "markdown",
   "metadata": {},
   "source": [
    "So far we've been dealing with the concept of taking a sample from a population to infer the population parameters. One statistic we calculated for a sample was the mean. As our samples will be expected to vary from one draw to another, so will our sample statistics. If we were to perform repeat draws of size $n$ and calculate the mean of each, we would expect to obtain a distribution of values. This is the sampling distribution of the mean. **The Central Limit Theorem (CLT)** tells us that such a distribution will approach a normal distribution as $n$ increases (the intuitions behind the CLT are covered in full on p. 236 of *AoS*). For the sampling distribution of the mean, the standard deviation of this distribution is given by\n",
    "\n",
    "\\begin{equation}\n",
    "\\sigma_{mean} = \\frac{\\sigma}{\\sqrt n}\n",
    "\\end{equation}\n",
    "\n",
    "where $\\sigma_{mean}$ is the standard deviation of the sampling distribution of the mean and $\\sigma$ is the standard deviation of the population (the population parameter)."
   ]
  },
  {
   "cell_type": "markdown",
   "metadata": {},
   "source": [
    "This is important because typically we are dealing with samples from populations and all we know about the population is what we see in the sample. From this sample, we want to make inferences about the population. We may do this, for example, by looking at the histogram of the values and by calculating the mean and standard deviation (as estimates of the population parameters), and so we are intrinsically interested in how these quantities vary across samples. \n",
    "\n",
    "In other words, now that we've taken one sample of size $n$ and made some claims about the general population, what if we were to take another sample of size $n$? Would we get the same result? Would we make the same claims about the general population? This brings us to a fundamental question: _when we make some inference about a population based on our sample, how confident can we be that we've got it 'right'?_\n",
    "\n",
    "We need to think about **estimates and confidence intervals**: those concepts covered in Chapter 7, p. 189, of *AoS*."
   ]
  },
  {
   "cell_type": "markdown",
   "metadata": {},
   "source": [
    "Now, the standard normal distribution (with its variance equal to its standard deviation of one) would not be a great illustration of a key point. Instead, let's imagine we live in a town of 50,000 people and we know the height of everyone in this town. We will have 50,000 numbers that tell us everything about our population. We'll simulate these numbers now and put ourselves in one particular town, called 'town 47', where the population mean height is 172 cm and population standard deviation is 5 cm."
   ]
  },
  {
   "cell_type": "code",
   "execution_count": 12,
   "metadata": {},
   "outputs": [],
   "source": [
    "seed(47)\n",
    "pop_heights = norm.rvs(172, 5, size=50000)"
   ]
  },
  {
   "cell_type": "code",
   "execution_count": 13,
   "metadata": {},
   "outputs": [
    {
     "data": {
      "image/png": "[encoded data removed]",
      "text/plain": [
       "<Figure size 432x288 with 1 Axes>"
      ]
     },
     "metadata": {
      "needs_background": "light"
     },
     "output_type": "display_data"
    }
   ],
   "source": [
    "_ = plt.hist(pop_heights, bins=30)\n",
    "_ = plt.xlabel('height (cm)')\n",
    "_ = plt.ylabel('number of people')\n",
    "_ = plt.title('Distribution of heights in entire town population')\n",
    "_ = plt.axvline(172, color='r')\n",
    "_ = plt.axvline(172+5, color='r', linestyle='--')\n",
    "_ = plt.axvline(172-5, color='r', linestyle='--')\n",
    "_ = plt.axvline(172+10, color='r', linestyle='-.')\n",
    "_ = plt.axvline(172-10, color='r', linestyle='-.')"
   ]
  },
  {
   "cell_type": "markdown",
   "metadata": {},
   "source": [
    "Now, 50,000 people is rather a lot to chase after with a tape measure. If all you want to know is the average height of the townsfolk, then can you just go out and measure a sample to get a pretty good estimate of the average height?"
   ]
  },
  {
   "cell_type": "code",
   "execution_count": 14,
   "metadata": {},
   "outputs": [],
   "source": [
    "def townsfolk_sampler(n):\n",
    "    return np.random.choice(pop_heights, n)"
   ]
  },
  {
   "cell_type": "markdown",
   "metadata": {},
   "source": [
    "Let's say you go out one day and randomly sample 10 people to measure."
   ]
  },
  {
   "cell_type": "code",
   "execution_count": 15,
   "metadata": {},
   "outputs": [],
   "source": [
    "seed(47)\n",
    "daily_sample1 = townsfolk_sampler(10)"
   ]
  },
  {
   "cell_type": "code",
   "execution_count": 16,
   "metadata": {},
   "outputs": [
    {
     "data": {
      "image/png": "[encoded data removed]",
      "text/plain": [
       "<Figure size 432x288 with 1 Axes>"
      ]
     },
     "metadata": {
      "needs_background": "light"
     },
     "output_type": "display_data"
    }
   ],
   "source": [
    "_ = plt.hist(daily_sample1, bins=10)\n",
    "_ = plt.xlabel('height (cm)')\n",
    "_ = plt.ylabel('number of people')\n",
    "_ = plt.title('Distribution of heights in sample size 10')"
   ]
  },
  {
   "cell_type": "markdown",
   "metadata": {},
   "source": [
    "The sample distribution doesn't resemble what we take the population distribution to be. What do we get for the mean?"
   ]
  },
  {
   "cell_type": "code",
   "execution_count": 17,
   "metadata": {},
   "outputs": [
    {
     "data": {
      "text/plain": [
       "173.47911444163503"
      ]
     },
     "execution_count": 17,
     "metadata": {},
     "output_type": "execute_result"
    }
   ],
   "source": [
    "np.mean(daily_sample1)"
   ]
  },
  {
   "cell_type": "markdown",
   "metadata": {},
   "source": [
    "And if we went out and repeated this experiment?"
   ]
  },
  {
   "cell_type": "code",
   "execution_count": 18,
   "metadata": {},
   "outputs": [],
   "source": [
    "daily_sample2 = townsfolk_sampler(10)"
   ]
  },
  {
   "cell_type": "code",
   "execution_count": 19,
   "metadata": {},
   "outputs": [
    {
     "data": {
      "text/plain": [
       "173.7317666636263"
      ]
     },
     "execution_count": 19,
     "metadata": {},
     "output_type": "execute_result"
    }
   ],
   "source": [
    "np.mean(daily_sample2)"
   ]
  },
  {
   "cell_type": "markdown",
   "metadata": {},
   "source": [
    "__Q8:__ Simulate performing this random trial every day for a year, calculating the mean of each daily sample of 10, and plot the resultant sampling distribution of the mean."
   ]
  },
  {
   "cell_type": "markdown",
   "metadata": {},
   "source": [
    "__A:__"
   ]
  },
  {
   "cell_type": "code",
   "execution_count": 20,
   "metadata": {},
   "outputs": [],
   "source": [
    "y = 365"
   ]
  },
  {
   "cell_type": "code",
   "execution_count": 21,
   "metadata": {},
   "outputs": [],
   "source": [
    "def mltic(c,d):\n",
    "    seed(47)\n",
    "    x=[]\n",
    "    y=[]\n",
    "    for i in range(d):\n",
    "        n = np.random.choice(pop_heights, c).tolist()\n",
    "        for item in n:\n",
    "            x.append(item)\n",
    "        y.append(np.mean(n))\n",
    "    return x,y"
   ]
  },
  {
   "cell_type": "code",
   "execution_count": 22,
   "metadata": {},
   "outputs": [],
   "source": [
    "x,y=mltic(10,365)"
   ]
  },
  {
   "cell_type": "code",
   "execution_count": 23,
   "metadata": {},
   "outputs": [
    {
     "name": "stdout",
     "output_type": "stream",
     "text": [
      "[179.04949004084014, 168.54189383610353, 181.71974048130906, 176.56433732723997, 165.91968051972404, 170.65629646435846, 179.37664508857696, 166.4010398756342, 177.1510503393935, 169.4109704431706, 169.96353025657277, 175.15960885952623, 177.08203296308574, 175.57499515846146, 174.54290108507521, 172.47967099082933, 168.61822611729664, 174.73274884188947, 170.88926243618542, 178.2746899273406, 171.5287462859318, 173.4897060555734, 172.07524559808795, 172.29707499479943, 171.58202648312852, 169.8448035201747, 178.6710424580559, 174.28346435755896, 174.29645483303324, 167.42082214126637, 168.57939161355623, 169.54392578109002, 167.58621293448735, 176.86570940040758, 164.2575536629967, 177.38929575300472, 171.9796448820775, 164.941360536674, 177.90675289493535, 175.27588449616727, 176.64336688476055, 169.6801367543195, 175.41851965918934, 171.940891903986, 179.69843965088225, 169.93651872075313, 169.33209809727524, 172.17010875949248, 171.18783137803553, 171.14370133962512, 180.93666245506347, 175.34724086619855, 170.08526874478343, 171.32458620595875, 180.93239787655816, 165.67453767201198, 176.64433941813738, 166.25630226283693, 175.0566241673256, 166.02199127233496, 177.37433823692504, 172.93348601820898, 167.44332374059502, 157.0521778681785, 172.30911578963406, 173.76677924116146, 170.22857225359482, 174.54300725048935, 185.4914485727583, 176.0682130374632, 177.13513419629825, 170.09856228206382, 171.2587652932231, 172.7157104490091, 172.28393491812062, 172.69170736377458, 170.8413071548269, 164.3879145019925, 174.1148272835289, 168.04056171315176, 169.3784275206543, 166.10412796471448, 171.57260519529262, 175.5342015429195, 172.8424456969462, 178.8218727846017, 173.44046143978753, 170.11633525533247, 173.68549182089617, 169.11232234008722, 177.2366712122134, 171.92062003505555, 175.0322279826894, 179.5121769168927, 176.73691159234218, 172.477441931724, 176.42337248229484, 179.48828181536018, 165.54361240132536, 175.84030021443954, 171.4694758091519, 175.0224256780573, 172.26639306294538, 174.8141036154668, 175.57469989096947, 174.46510871504663, 165.86782306113975, 176.751374260829, 168.83341585088232, 173.66492433918432, 169.67824502160377, 174.77573145039895, 171.10276199480563, 175.1996441172657, 173.45733402659988, 176.68444502565873, 169.54111032608816, 178.15978801971025, 172.25304675972902, 170.21746424762063, 179.73393155777484, 176.63472419758716, 163.46494353399825, 176.1303924750778, 179.50507803788304, 168.12610500039486, 168.31025257899537, 180.66859483944808, 177.54859437384334, 172.70251533815988, 175.7767030852626, 176.04934022465804, 166.08290563214976, 175.26843288176332, 173.13969049135093, 171.61590366587566, 163.9522244855844, 171.40343973046515, 172.34626161787074, 176.0450394468039, 173.97335364063284, 172.4841576724928, 167.83334577384232, 167.05537147733895, 170.63760058447252, 171.32741870620399, 179.8587092940695, 175.82331501084812, 170.97515786671627, 172.70873627955083, 173.35796568632426, 173.12071473971127, 175.56755331737978, 173.6903489212337, 174.56065032931727, 177.25841002539966, 173.19545625305258, 170.78738230639354, 170.92193352936656, 178.68834440290934, 172.6447644372452, 169.8434974403635, 183.02348987586012, 180.635783678524, 169.5708566294752, 177.78771243083767, 172.4356474439848, 165.52510573896305, 172.5558083781822, 173.6762900118516, 173.54397413947464, 179.51415489237192, 167.47693935032524, 173.31616347456526, 176.0984975881089, 172.82084637208544, 180.32564626795838, 171.84828780846811, 175.0797603914188, 165.3344958850146, 171.4053026557574, 165.02592261193735, 175.04471664717676, 175.7087927788524, 179.5012379313265, 166.9016942791219, 171.90695537984533, 172.38535079364144, 168.5888639847948, 170.84212659248735, 179.15695065430862, 175.11417119352413, 171.53023499012903, 167.77741680309913, 180.3503718619678, 175.4121024677268, 168.57586347201118, 172.46932371230199, 174.88521441458437, 170.92128395146477, 166.45092393844251, 176.3869439669411, 179.11216169396295, 168.81296691101863, 167.8046890310975, 171.58022282347625, 172.20895809912446, 170.47508483124008, 169.09620696197155, 172.19454497387414, 172.07822294481576, 170.08862276375532, 157.40641715766608, 168.210560846127, 172.6408078673149, 169.70992799673732, 175.57179487396903, 169.24325642088832, 171.53357447205687, 172.4294375162412, 177.16186307421495, 169.70267062243852, 163.079049451965, 172.50096227272257, 168.85709076929868, 174.52613839256, 174.2261709953144, 168.32145240031733, 174.16386479036458, 172.54624368600864, 167.28597258246236, 174.32790840285287, 172.65477352932805, 167.96943234266692, 171.74929567445363, 171.32425485103704, 167.3075416777398, 168.8946068707263, 174.2212933565626, 172.24263096482164, 182.83088414644388, 168.42902831473785, 175.19053156818575, 161.6299768634717, 171.45703665048063, 169.39180955400928, 176.56832484179705, 173.68409279757265, 164.6772048043887, 177.4704696124393, 178.0079613220607, 173.89802511995657, 171.17611487791228, 177.86394999242418, 180.31022772212472, 170.00973793593545, 174.36335016793717, 172.69142264587563, 173.03662379458754, 169.0663830597868, 163.0016113526376, 178.1819343271707, 179.78225182646918, 170.6177317350696, 173.85308875728526, 163.8303767716117, 174.70773857712246, 171.28144016665914, 176.02594476101245, 162.8878529561621, 162.95016298643026, 161.80894141514833, 168.909175194318, 184.63527674665767, 167.34326182666118, 170.965773921799, 167.77742270204953, 176.57961578625762, 168.41785137929583, 167.48763913938302, 174.0820995556482, 176.51111921869358, 162.2924569648831, 173.2152979306963, 163.07573310161328, 177.61143402732756, 168.29160302461858, 165.91041493745692, 170.97200189733803, 175.05173726533684, 174.08609486045756, 173.4449892268436, 167.6181146952725, 173.1477811259354, 164.13955553280408, 171.33238663432957, 164.2708763406284, 175.78829314329317, 170.0061077174615, 171.19468295650145, 166.43073510519807, 169.92615398015775, 175.41131908175066, 170.36902000326194, 169.67238028798434, 170.5706723063594, 172.97897089744566, 163.78071186359713, 174.6672528016231, 177.4201194804877, 172.26468905892105, 164.4378497853761, 170.62111584095385, 162.83471312396338, 166.35686251417783, 184.78449709960566, 171.60968626763247, 177.6459066095353, 180.5688627021232, 170.69430837416786, 174.8837206637442, 174.90231040570407, 176.3117285771964, 172.642356590337, 180.50415841144758, 165.1495463184534, 171.14269535680438, 172.93206386713257, 169.66891538832624, 168.75707906450845, 172.3283240312842, 171.97774890342654, 171.2650933519851, 170.25177765375673, 172.34546736646166, 171.698204349247, 163.72954350939807, 171.25719341002934, 176.3124545996611, 168.83519772921122, 165.37757535979424, 174.0979423014889, 168.22256787916973, 171.49208282938253, 166.74714933450164, 168.23281528622144, 166.28819728047796, 174.75454148325193, 171.48207160471574, 182.25017130772127, 171.2083153234487, 179.45106217150663, 179.50590375318544, 168.42139747918202, 171.0508452202818, 163.0956569278915, 171.83409756348343, 174.58494646110947, 166.94221554759625, 164.80758925377137, 173.907458847478, 171.02809104531255, 174.8796076455107, 175.46090660872062, 170.83368203804602, 180.82483075223416, 161.57736023162943, 170.70022149076954, 162.84374148366533, 170.4974608532951, 174.66068744647453, 163.88136639095572, 169.46452164012774, 180.78986984350422, 169.1300277435722, 168.47324092724014, 172.4142476657271, 173.0180518065175, 172.5793250885374, 176.66844600136704, 165.72421443860486, 172.4485273877353, 171.75230195902267, 174.0145735503633, 175.93255618437306, 167.32085668446052, 171.79146656326876, 167.54952602302956, 176.40725740845062, 167.94142115528638, 171.0855559824375, 167.19622247785983, 176.42736358113683, 173.9667754978393, 176.85935315198046, 173.2288197028189, 172.5447341927258, 169.19178043432555, 172.33819690048654, 173.67472930938814, 184.24671375227177, 167.9750102162468, 164.27673881441657, 174.6745657058837, 180.78142389848753, 171.1034540365513, 173.162696067654, 181.6760916622602, 179.9528407366518, 172.85736316384654, 166.14227502648762, 172.39535711962753, 168.56119151376183, 160.62373173943678, 174.5396531345667, 167.33106119175312, 169.9552481625734, 176.88827025168405, 168.09528600655554, 175.22769026759866, 174.99523527571907, 173.90290892826283, 173.12736014959268, 182.34894380280127, 170.91165221366631, 164.35658537481746, 169.5505974152121, 174.93658619302582, 171.00692801987495, 167.66087746845432, 174.10721296157516, 161.30467474205375, 170.9753882300784, 165.02730535645924, 171.3763120165739, 167.06932753092445, 165.45425101674607, 170.98948619095168, 172.73211248899744, 177.7640556142207, 168.22891435742758, 168.7854688629007, 175.2225675531546, 168.22795208586462, 174.0743387061396, 170.40687265133738, 181.52432130940707, 175.76721815584733, 172.4403932804082, 173.3628862471367, 175.1464919365493, 175.3153661366472, 169.58679811754203, 163.05764966113793, 176.9174648666178, 168.58704123207542, 172.2237469331013, 175.8992489115111, 181.813335501091, 166.97579875182242, 163.04217484986657, 175.31675570202688, 169.7660801837472, 179.61072751082614, 178.44982000189563, 179.2645553895118, 173.8552929906227, 181.02343530943728, 167.16594928113932, 170.8106206430729, 176.65151565357567, 174.21584312733194, 173.86494932356408, 180.77804435873665, 171.61962126168464, 177.11656420080806, 169.85679515290198, 168.73071312218337, 174.8432239071901, 166.0796135153861, 176.8855100914326, 173.4304782389031, 178.09397256704864, 170.79420917908178, 171.49894202834815, 166.74143489295162, 170.17810659100218, 164.13423673368203, 182.08930504401, 165.08974021151957, 169.60902604428986, 166.15141107993043, 173.68306648465065, 167.57462563135124, 167.36049946321242, 173.2058393914133, 177.066582621653, 180.50940473653964, 167.94672815103357, 173.5585586082021, 173.15168497282843, 174.1583536901873, 165.45191411556104, 170.75288366640498, 162.97206469626994, 174.31037338094708, 170.18917919081503, 163.3143628694066, 175.32662641980843, 169.37730087392214, 178.21060745379083, 168.3989410951991, 178.28653722415882, 178.36939523560162, 171.69069455176893, 167.83079275857094, 171.05166105108248, 171.05116123347548, 171.33839429412237, 171.07025333133222, 168.798173144809, 164.71406328162217, 169.25730354896683, 170.68934746527236, 169.4117934580647, 178.91766785118014, 163.50551611307336, 171.3654871613956, 169.71567044928304, 168.22928550823963, 174.4507294313751, 169.04148388873526, 167.13559841915207, 172.770960808412, 168.6023784263756, 176.50424654268585, 170.70158734531503, 183.04688194760172, 168.55235316072515, 168.2606634877603, 172.36634498529605, 171.9256203785285, 172.9211199615236, 171.5783977209327, 179.04456911195385, 173.10443945597788, 179.43838926900168, 175.14145366758055, 177.6577834613325, 169.92433244118297, 171.32522553849896, 176.8538176379492, 178.16334837238486, 176.56359647563852, 166.67194391944668, 160.43695865324557, 170.80682728066589, 168.85680302655052, 174.27881550254068, 185.59190017801527, 172.65859456711985, 171.47741906494142, 176.06793103057004, 175.32461046115583, 169.35663811980817, 169.66261321948255, 167.7474337415496, 171.31585063022322, 168.19253428591077, 160.797722119667, 167.87044085622455, 170.01553415653296, 174.34799925425295, 170.93509338070598, 178.1957456954021, 170.82972753413816, 170.3025967974273, 170.63027720404997, 171.79535311350037, 171.3554727774879, 173.7842061398487, 177.6482218243166, 167.36713111683255, 173.9416246778268, 173.60274343281523, 167.61772420886945, 169.74463599963602, 171.73130020193125, 171.64882444132644, 172.24236937135848, 170.0983487510536, 166.13090159533735, 165.91846136740233, 174.0250820600751, 175.08270809685655, 168.01956397221034, 181.21791083753374, 177.6013394641143, 174.24216984782154, 174.3742963201525, 183.94510448941426, 175.38540630495177, 170.92286179302263, 186.56955505085426, 167.74406693852427, 175.17686560737639, 167.46887265730555, 165.39441377851725, 174.08813103704904, 166.86077581912187, 164.90917267310056, 174.05792768699393, 178.20562472951912, 163.18341031581673, 176.6294760539428, 171.737588292537, 171.3128893197634, 179.53652448199915, 171.9913172588895, 164.36499270128988, 177.19061134830517, 172.8495594939858, 171.32024929526798, 172.07300602821496, 167.91909037709402, 174.04029961726394, 176.68986085791892, 177.87726246488046, 178.43213549824566, 171.80755806220165, 164.85070964593538, 167.2312647457365, 173.67051802013768, 170.9304356335275, 174.48773732560562, 168.6832831740005, 164.98485027447705, 167.98482669859007, 167.92229468524377, 166.30669010070255, 172.0947213869982, 177.61046218301652, 175.50327317650274, 165.03927046201332, 169.90186965682287, 173.33288652683618, 173.9560363118896, 173.2983484218985, 184.71031082382507, 178.8443659826819, 173.6434024370489, 186.29373336448072, 170.44128073671124, 175.54537491947775, 163.42490876408806, 178.24311366486472, 176.12741009384567, 168.27810836559559, 167.60532989727838, 170.37563666498824, 162.7056065150939, 178.39216022270531, 169.33710049575944, 162.23616337554125, 168.22795208586462, 179.2545141694843, 169.87669814238183, 178.0094872724673, 161.48404041480535, 169.04424004702548, 167.13050950031754, 171.45229010696124, 166.63952031756352, 180.234866108146, 174.72026909231272, 173.61519085699473, 168.19695151086228, 172.20961486836822, 157.66053451448357, 173.24747561297448, 170.01770724064272, 171.44847387765918, 168.1570637471128, 167.2762800726906, 173.38367660841703, 171.19704181224134, 160.66290957169542, 173.05344538735656, 172.37614791782576, 171.459414335425, 163.08258812901693, 167.44575543606993, 175.38108565443105, 174.56549038776856, 171.49696175975558, 174.64361998444093, 175.32075829071258, 161.54258592106075, 170.26912352237238, 167.77442694304318, 165.65857239209953, 168.58316794969411, 172.27693016165472, 172.9048512009686, 171.75477202144577, 176.08181191616978, 171.79535311350037, 175.61747469590833, 166.66895949932936, 175.64281677022953, 174.06124644117247, 164.21307348639095, 172.3946230579169, 170.33463194605932, 171.75504578857232, 172.99432842798035, 175.35100317832766, 168.02133619730057, 177.82634697233738, 174.29592861951625, 175.58703818933378, 177.66656355290783, 162.61951346702512, 174.34246174912118, 162.7800964957102, 160.97738011171165, 175.05481107688868, 170.07795791947157, 178.53943526475126, 169.7481635527318, 166.37496276792865, 166.7705642774866, 178.61367785215722, 167.58520332406943, 167.39361028239398, 168.6898591123029, 171.5228911305775, 169.4327589054854, 173.19927677734768, 164.60114334934048, 177.01424800582302, 170.11797016646804, 168.14512428194905, 170.93881905236145, 168.69770489744764, 178.60235434193652, 163.21595155669598, 178.21651975240036, 170.4740002680971, 183.58994643956342, 173.82290104657548, 171.3624917602091, 166.13113944273536, 167.94013497247198, 176.29518766641112, 175.86648951643798, 175.6560962590611, 172.81560004473351, 178.78990281625028, 174.8197162311441, 172.2590919809532, 163.3358029102562, 176.79289400542845, 179.30981745363985, 168.7676088686727, 170.93316490705445, 179.17834005326358, 164.2422886469383, 177.8806934126232, 170.44118350943504, 167.49786808881206, 169.64357287858874, 175.82430093842345, 169.91625960117952, 170.61897422416624, 164.0882789590975, 175.5404506626714, 179.71254679302186, 164.77792367497156, 171.88062732241832, 166.88967247067032, 172.2740942050663, 165.94899257956678, 175.7509347640823, 168.76342217899227, 157.7508951850677, 169.4320595386004, 168.47289903463465, 169.13190417141195, 171.61118926957343, 171.62467514959886, 168.0106739686192, 165.66676118609428, 166.2967064086363, 169.76994934989642, 173.46319467042645, 171.2350800745202, 165.9102435386819, 160.72698109191103, 179.66978232603998, 165.88805121275965, 172.24976933572847, 171.33010586174117, 168.50011855301506, 164.5453354152374, 166.98151761959267, 171.67352071728126, 178.53636301410353, 161.09084838702412, 169.0439006680369, 168.54189383610353, 171.18621162249647, 173.49037543210386, 179.0852735316615, 166.7552457937646, 171.56496635769074, 169.18361357664725, 160.81342472516798, 174.24166309034817, 167.63503616320654, 178.28737889819865, 169.97270882500774, 170.38918090533383, 167.84024404615175, 168.44864818398338, 175.1830777838684, 170.73261087808876, 173.9258192002143, 170.15445688532157, 177.95256258051603, 167.82901001990012, 162.22450089127534, 180.35686993596346, 166.31217680059046, 168.87425004935835, 166.62684921630253, 175.13658998142188, 159.45740204536514, 172.84584028571, 175.29141178755046, 179.23354621732884, 170.92635399633394, 174.26458590703936, 174.0220901885338, 165.90964807436166, 176.76423108386757, 171.27299053887882, 173.02638833006668, 167.97667432780253, 168.0083054663306, 172.5586264789903, 171.95677243414804, 174.13300842007735, 174.1865086003521, 171.1728037876483, 170.52604977761092, 166.546283706893, 164.01927269803699, 176.19783494531688, 165.00582637021787, 177.7129248380729, 173.33041860093314, 168.17172177302882, 172.2855319950758, 166.95442369231586, 171.647440223626, 175.9992183806422, 172.35424058949044, 160.7975257046724, 168.89161204737073, 179.2007869943463, 171.42782188393033, 167.07873292723164, 167.05543488602555, 178.09318660954355, 179.68883007552012, 169.48734548512735, 175.72320530734015, 172.31623157177717, 167.49243468301674, 167.11213567717422, 162.4712912027179, 173.65745377308997, 176.04071384523314, 176.04235785373015, 170.1371805880256, 174.7036758866686, 169.77983320352087, 176.44276149433017, 176.31964599868903, 175.86261439551046, 172.5245899999317, 169.6678481455971, 168.63163868391158, 173.93510043537592, 178.1386352212178, 172.95407278721976, 174.19753320866994, 170.15251094806408, 171.44565651892148, 168.0223344145641, 167.0258638305004, 168.3096901346941, 171.02795457473235, 169.19024447854125, 169.88150652354082, 165.4110113497748, 170.3796102418384, 178.57816824308466, 175.10735864788066, 169.99536485175113, 165.9216646205278, 175.3194437293757, 171.9569652317335, 169.0807871708024, 161.88693467885906, 179.2401788773929, 177.65512517991894, 176.89590983325056, 165.7988188087398, 165.6051975374122, 172.01242324118178, 174.86110007654136, 182.36097033475457, 168.34484397674464, 168.16297091579514, 170.03766805477895, 167.8341311883344, 172.69960518854617, 170.06349523892388, 177.59188991862518, 181.5951785624157, 172.83393303893953, 172.967233757492, 165.42810049700188, 169.70172984823546, 172.24955125777208, 176.96330127714063, 175.80185779167223, 191.65006785125945, 168.47169916793354, 162.28986244990526, 172.61950826860627, 171.33060541388195, 184.9411872387286, 160.84667986082948, 182.8766021312723, 157.0773167962161, 171.45358996098574, 167.92752595230016, 169.91752301120692, 173.7319813544125, 170.62928262718836, 171.5180434129027, 166.63607018960715, 166.52864117341628, 174.21891402578612, 175.91039827818372, 177.01656906861305, 173.65435657804971, 181.57557421533573, 174.2893209687805, 163.67808420655072, 176.3021679867325, 162.12728654283512, 176.94052498016487, 164.72075390465923, 172.47063256221966, 162.04315907651133, 171.45384827526877, 171.40105363892687, 176.36865713951937, 179.1923725044977, 165.72275520302327, 173.82040107899908, 167.78666572381175, 173.40791733872035, 161.22034893362274, 174.80792211733367, 171.36289316505938, 183.5124869480715, 171.39233343687835, 170.60473483852877, 176.7937825584006, 167.11571792411704, 171.51315720673156, 178.5726055952761, 168.7793988868086, 165.81614775746846, 173.47086878720754, 175.70376679920744, 176.20690645249806, 170.63801551759053, 174.25449771832396, 170.15661630701106, 173.12199211779316, 175.31693198402075, 174.16383735980662, 170.71935404837077, 171.8131965281549, 173.16100243791757, 169.005082832654, 176.55750702236182, 174.14208492677847, 170.76916884937177, 176.33006268610976, 172.85536806674, 166.57416414458476, 169.8914779566983, 171.77942037642833, 170.65155636776046, 172.90326541430053, 174.84220814348478, 173.49888067728284, 169.62906431218977, 171.8428963016163, 172.97732529295084, 177.05792942226662, 179.7239689738711, 168.3541762605535, 167.29442031682765, 163.8743225013854, 165.90333827524455, 172.38534079652317, 178.15978801971025, 166.40368666865805, 172.9336802371167, 165.36895353936194, 171.36398789585792, 177.38134530448124, 167.71620042766523, 170.74043221382482, 175.63583272392228, 175.63941968512447, 177.09253466622656, 177.3803464499843, 172.94668148229297, 164.21307348639095, 180.30341189134967, 172.08990998704692, 167.76542199695976, 166.59585005161685, 172.8307624515204, 171.6752185164831, 183.7142392248112, 168.64193947111687, 170.2169012914109, 175.23064204376416, 175.0671422469625, 169.65515216901707, 169.02602519468527, 166.380792951317, 161.119275815854, 174.65455785145366, 173.61905487711334, 167.0995422673755, 174.99047113953554, 174.50619916627605, 169.1981034841569, 166.21858736515532, 177.54970949759712, 178.2314064097513, 177.09764431514301, 169.03676181937877, 170.3916787964729, 165.6722922023059, 173.7861218670512, 176.42628368027505, 175.49585424950166, 171.50630890921263, 170.95994060887142, 178.86103141985583, 175.27968899826573, 167.32482939059665, 174.9135713198517, 169.00997244267788, 177.23313116089992, 163.35038385563738, 169.03113235916936, 160.5296376995417, 179.88067777930914, 169.68129985707876, 174.36546267126337, 171.48146280247028, 178.50046017135833, 177.873019029579, 164.843723420309, 173.9793951544735, 166.5939513520777, 172.10315455407863, 168.50671263310474, 163.40721707109924, 178.57581451718673, 175.919437448955, 171.57911428234593, 172.1516590571603, 176.02010454532183, 166.58346950330238, 170.41986289043663, 172.4357020180678, 165.37410614478358, 170.08048403995338, 177.50064845228758, 183.02791647054414, 173.77946801546895, 167.7624174423059, 169.34749937977656, 178.9949661520409, 173.50560722603004, 159.85735851703504, 177.11140607372602, 170.35770808441168, 163.4634515255115, 172.57377808574276, 177.40165676827613, 180.5902965196492, 178.147744611849, 175.28660147469338, 170.99127873048255, 170.52160154018011, 166.72699880581553, 171.1551188071051, 167.99551587789693, 176.58698877406167, 172.3967940298738, 175.26344617945352, 170.34744135367475, 179.4418060295828, 173.74832676708547, 166.06066273821077, 163.11293559521752, 167.34027277578474, 170.14642831064515, 169.10648780528965, 175.67204240445838, 175.6228533955795, 165.31460500143476, 178.61186137874589, 174.8027999527044, 174.4090076105658, 175.3462657385628, 165.80167990686954, 167.18942421110805, 177.04220854661415, 171.9479834851049, 175.77993631623494, 173.610738272893, 176.51747463652848, 173.5751731476637, 174.1539315732821, 164.63035289369876, 169.88203168720935, 174.43518253509066, 171.97231538903, 173.9902569098854, 172.89599127289515, 169.74102302125667, 165.71411227459515, 177.03390571247107, 175.612604112539, 170.922267060176, 172.8701555051151, 173.0004052597887, 175.32956310738342, 173.7526633867284, 174.98227987980655, 165.25624286714182, 176.58991227018961, 162.07179629274455, 175.48271680060995, 173.9146543668317, 168.57112524911432, 171.0751621572254, 172.23673242979163, 166.10233184046766, 172.17010875949248, 177.87552472761547, 172.60811506424434, 173.57788742965235, 174.0292080899543, 172.7364803822961, 173.19456667922623, 176.30023257970333, 173.72456628542028, 181.7873250853835, 165.34317567919007, 174.54285307234207, 171.35796897241806, 166.9693717043054, 164.1153941708468, 173.10642587800217, 166.24567138755884, 171.39686121492508, 172.66568833192295, 176.11912782459126, 169.51754993326446, 183.20334776507576, 173.63461584512686, 178.53144136182016, 158.93924062024766, 174.70548579274444, 169.11387257684177, 164.82863577612483, 174.6136299380126, 174.37901662392954, 173.31967529793138, 171.1306096857654, 175.78770665522853, 169.43970179586137, 162.96814773904046, 179.68947403718056, 170.42215494091738, 175.01200532669432, 171.32395945017043, 171.65500880046238, 171.350011491166, 164.11353307863035, 176.33465123458387, 171.24659045817705, 182.5835771050568, 173.98903308302806, 174.5640680671925, 169.3105617169443, 175.23986135764528, 178.28948517775422, 172.5201210763994, 172.35404079917765, 169.06607785554382, 164.61983818615388, 166.38087873575012, 173.4172003341748, 174.40502564035276, 176.21434041205822, 158.9175426105805, 171.86137981512184, 184.27918175323686, 172.87874636562213, 168.90073557469836, 174.13861420899346, 167.41530366927753, 171.30609650121656, 179.64222733752305, 171.64934505726723, 150.86806415764312, 169.57131851340114, 173.7930230502279, 170.66421520247866, 175.75738429628393, 166.084488810401, 180.28980575447005, 173.27747384117114, 174.95937235285274, 174.04389105020945, 171.04211430895296, 176.36511781375364, 168.36073707621756, 171.72639596768096, 180.58674240283264, 182.64479120388702, 177.30282152413943, 182.00877667081005, 174.9498939373911, 167.90568772498557, 174.24743698685188, 172.44419591268408, 167.83841176402518, 173.39981509923035, 176.10773745364176, 183.03697370568727, 164.48911255166666, 174.99748673903753, 175.107579643289, 180.05097227614397, 174.41557844639135, 170.07742736266238, 171.01006695774646, 178.46714425218767, 176.88217393053253, 164.1121240421742, 164.45175620557782, 171.71081034094223, 175.69209238503888, 173.16298943047326, 170.88059956449635, 164.1998902273444, 177.01054450114722, 180.04235313972856, 170.42727858139318, 168.24715061479915, 168.44743957511855, 173.7493087306548, 170.76924757819398, 177.331882676929, 182.91053324650267, 160.07039411804718, 169.70172739765331, 170.48396078334022, 169.55299240619308, 185.16719226327947, 168.8857727403926, 178.1893286795301, 170.04346698368624, 167.7921575550288, 178.39378818321288, 182.49949388199335, 168.44853128282443, 175.917743001021, 172.25304675972902, 170.63680085877954, 168.64460210595675, 181.31211340173917, 169.92908441600605, 169.41703332910896, 170.45344134095038, 175.5618305460483, 173.4967152515931, 167.70470434348832, 164.2085732563965, 166.70838522044372, 168.6472575679163, 172.55003180285345, 175.8602354261322, 171.50180954650594, 179.12480468158705, 174.8792729655724, 166.2692525098143, 165.8654060669055, 173.61534658085984, 169.34883546974675, 169.54685160696042, 175.41603550824152, 172.58472237599784, 181.30682952141774, 180.9296665033202, 175.68973606932562, 169.32361985128685, 179.7091518492342, 167.75005516183063, 170.61458548754396, 171.83964696488158, 173.48929747224483, 170.3471155142864, 167.61896581748306, 172.24696187937124, 171.6356013051259, 176.14084335039675, 162.841158679684, 177.7716993817548, 172.37614791782576, 175.29002528656608, 175.4336101338996, 181.25166447037716, 165.642079704828, 169.77656381717878, 176.7512865389256, 174.2231326853368, 176.8683670089856, 171.44625438108469, 169.99028009730975, 167.14911804134704, 167.35355328517704, 169.5367032215146, 171.6828847627581, 165.80975695753747, 178.49871780134072, 181.7873250853835, 168.09908789516365, 169.8997865271957, 170.17199818508007, 166.02353417488803, 174.63441945190468, 172.10153862563922, 167.47282366688927, 176.80295516822008, 176.15251546664388, 160.1639430285914, 175.86931554234286, 167.9166030335461, 177.3023342485635, 171.85346187315915, 174.35922859305694, 173.0336403392977, 167.24718043469775, 175.35424167102752, 174.6766657671844, 167.27353678803505, 170.45645890083685, 166.874029910185, 172.75229651302206, 168.0430088345987, 182.70842022475438, 164.35249991599463, 173.1993983350396, 176.50452782316853, 176.33351893197033, 180.71221253443434, 177.1192203097045, 169.25677452405588, 167.9883740015575, 176.4934620379275, 169.49401638725342, 170.03379691950565, 164.7748289746161, 166.66041279429157, 161.53944168911494, 164.05898617876133, 165.35801633983417, 173.54019553154217, 166.36471534185597, 176.65851855159687, 168.07316977630995, 165.05969607921415, 170.0369961441156, 177.09690197328084, 169.78576573846425, 169.86788595100091, 179.9516381014685, 171.66074418257273, 166.6742869180168, 170.52554810753088, 178.61367785215722, 174.75883508225408, 176.03506011967062, 161.0256701847014, 170.4846511205903, 175.08851131420244, 175.02781154233637, 174.22965793833419, 170.15165505601203, 166.99210294970115, 169.74681605578428, 181.06528200403244, 175.0641822857682, 176.77628111135965, 172.95212764982386, 178.09974228662918, 167.44226605197133, 163.16605440156007, 178.29957943680532, 177.99133326857603, 174.42373902134193, 179.12374654797773, 175.31712045697768, 184.2343520886316, 173.79885771626056, 171.21392007101673, 170.46655091711048, 170.26417125550725, 169.26935554201194, 168.4081732531074, 168.2411122918689, 164.4899072156265, 171.00213041899013, 173.10060529999672, 181.44612481612276, 162.06432400458021, 165.81492214290438, 180.5317264611298, 168.22488629887252, 178.1862849419079, 165.2610846239975, 180.44453694201752, 178.78770497987222, 174.0035638603715, 167.00283679263086, 179.58332474190013, 176.884715989902, 162.24052610024714, 174.37769227447438, 170.17173144602086, 171.22140353648305, 165.22654059921004, 164.54812478518778, 161.46648435355286, 171.11532474554866, 172.2071507410871, 181.15021852041747, 166.32399468288025, 166.57919149983778, 170.25894262209732, 166.40206052220336, 168.9511009469325, 165.50369460719503, 173.66484123938946, 173.19376704513903, 169.65611510106146, 166.66292295629762, 173.14083707220797, 174.99943701970798, 161.43185743617883, 174.49670808674054, 169.01444842048275, 175.34979466315693, 179.09183849527108, 165.66437445318098, 168.23023875990575, 176.67402179117016, 171.87185748959985, 172.94994702276057, 175.0513519454174, 185.13940542557071, 174.72135016044732, 164.28788091271528, 170.5617825187314, 168.9520122525724, 182.57707463704372, 176.3005930178239, 166.68339843775215, 176.10020840836913, 167.52578510569882, 170.62169720203772, 170.42781477410958, 171.29363710985749, 174.03330966971242, 166.22301097977004, 159.41098881550522, 172.0069799892164, 162.11517429729005, 157.09456837049206, 176.24364872955542, 170.63105387334411, 171.75066108446293, 172.49294154650983, 166.71381470469038, 171.91714455736127, 177.66157799960365, 176.7014309975105, 162.06532259759237, 176.06031772782427, 168.95054867162887, 178.27605946811855, 171.4574237311723, 177.0242939366135, 175.40503805486424, 168.3342705997062, 170.16140043545727, 172.8710289863203, 170.4365601661819, 170.0517175476052, 178.64982664649804, 173.59033978188288, 171.07584242247572, 177.7225599834248, 164.8214976995121, 176.15381059566343, 178.60409239072166, 175.2842308005046, 171.92488144374934, 174.2741325716352, 180.20899903666472, 167.11511115098494, 170.0489248575413, 176.28480780699405, 178.15203950760232, 165.9778069286596, 165.7035413018313, 172.38687817685184, 166.69659660665107, 164.26742475921034, 167.20197668486608, 169.30214809167745, 168.9945119676124, 171.8990391659486, 165.62027301947373, 178.8863375212534, 181.0113338649514, 169.68133708523717, 166.99165139336182, 169.52325362784427, 166.26037202070415, 168.77369342942066, 170.1450407666748, 171.39216257385294, 175.52066544724534, 169.32885535431475, 175.6560962590611, 177.4863984063089, 170.18006277130675, 172.49025651510905, 175.6148758865032, 174.24641165564532, 167.4271407945346, 170.61620026879572, 169.96169080109948, 171.04261576636912, 176.21178460794764, 170.0798730282209, 170.2898454253779, 163.06575312838928, 172.102619754706, 169.3653084247541, 181.30682952141774, 177.8039739153661, 174.2410434451564, 177.29363817271326, 172.6739955878865, 175.05762271184778, 171.33520313891717, 172.5415802938347, 173.23385877181897, 170.42800716607107, 170.31489650469538, 169.91562335866894, 173.51879919217487, 168.56687762563558, 175.35148086365368, 161.5424879285646, 169.70267055212864, 163.31114561408, 170.18545924713666, 175.71326082768724, 173.8311734477778, 169.36087133637798, 170.7572038808159, 176.31964599868903, 173.85815969188326, 161.2171326169655, 176.18144245486488, 177.89972512389414, 176.02010454532183, 168.11834184464124, 164.68726665266408, 162.1197913702349, 169.02388705421865, 177.66892302793164, 169.05059785348956, 176.07689506375488, 171.88276864103523, 167.8666109641865, 168.3919103086641, 171.91112130982603, 166.5454587689489, 169.21401936941177, 172.16646880770867, 176.920961100225, 165.45581353456603, 173.04843452944377, 181.21273982841495, 186.7603271272156, 177.34490191395497, 165.340103880325, 178.39641310622778, 176.357586706308, 165.29801201908555, 168.10962440489698, 166.85380551661257, 162.64418474010685, 175.12446960657698, 168.05731808030725, 177.9222215958062, 170.21485800483413, 165.91407028797434, 182.3140963845827, 170.86383186232146, 173.4209323481219, 168.53831526355404, 171.02194025946622, 171.67691307347064, 166.38882311106295, 163.49705216671268, 176.90760730226594, 165.55270362076453, 182.05296140389186, 164.7987667837016, 168.2988783270669, 175.7515904299915, 162.4926672840547, 175.52774558685664, 167.94282639913982, 172.13568617982807, 174.85133206097277, 166.42142644727764, 175.52066544724534, 170.45015660139038, 167.35509090573012, 167.79588044215302, 177.5131822501564, 168.37482833860773, 174.19835868614655, 170.40608608571665, 168.38753237088477, 170.56653619574539, 178.59715419428667, 172.75720703514878, 174.11420928784258, 167.68013010748646, 173.58589174182455, 179.33265635351367, 174.0430945744138, 168.6027301818615, 173.43156924993744, 178.2721953168144, 165.59181981847323, 172.27022588225424, 165.62027301947373, 171.24014412726513, 164.03758091124908, 171.73539613130131, 166.2681724377548, 171.07979907055, 169.25578529097092, 176.43635506527193, 170.25759095627927, 176.8387874695224, 171.90695537984533, 168.1910273400182, 162.82424676660594, 178.91955256943712, 175.58171604212015, 178.4262013213012, 168.92311921513632, 171.66179851877604, 167.50515425761984, 185.40595063511415, 168.1399645052629, 174.8961459821764, 179.9518797823017, 178.5408231692415, 165.28038981489476, 165.92028549303572, 171.240143549812, 168.2578735605197, 164.69597596798678, 174.78855476626978, 179.66751827734814, 167.94427212079762, 173.0004052597887, 177.6262889698645, 174.68350072460626, 171.46109368118914, 175.7608522933181, 176.63194410040688, 161.1620884516853, 167.28821646333796, 170.63103816997446, 168.33956132155663, 168.43624206073125, 160.76709250060208, 167.34092772885725, 169.87525356522286, 177.71993345696674, 172.5070975425775, 172.60785913918718, 172.69937787632813, 166.2879041028627, 173.92697197067704, 175.85639577921557, 168.31829104798916, 169.82083851668207, 177.366688088763, 172.01650238747922, 171.97437151067552, 177.28999240712852, 165.55613625504935, 175.81156655072587, 168.94455521501737, 174.91392212849848, 176.6610869477824, 164.69636087432704, 170.35414097148913, 160.78585467792377, 173.00794340735234, 173.65471533149986, 179.61138615268007, 169.43362810538554, 174.86211315678634, 178.56496021779745, 173.42213422576572, 175.35424167102752, 174.1115924488261, 168.1161807621066, 161.03573400087294, 172.50771766277464, 170.02805286809973, 171.33233435861968, 163.3932123026284, 164.99299729186166, 174.01424974605652, 172.18023169925752, 173.05882712247458, 172.70397870151913, 170.96639192611133, 168.451901072283, 176.49104700883655, 183.18561042996075, 180.04300515506796, 178.42400961064547, 169.6729297117089, 174.22193955536238, 166.64057924043763, 167.74661949272993, 177.11180332383984, 176.70341736203528, 171.237730212709, 179.72376227457386, 176.52595405187765, 180.52731462832872, 177.25526457847994, 174.23003888549925, 168.71144444587458, 165.0366482310675, 164.76411890865893, 176.50424654268585, 175.31143945856456, 169.7660801837472, 168.33740146591992, 170.4420994725798, 173.8298686757143, 173.7035179257424, 175.12593641650034, 170.0784193150834, 169.6706611928729, 173.32441280935106, 164.50593536225085, 174.90990526951467, 175.03256897260465, 170.37597686132113, 180.1003392906552, 166.26925313533562, 172.46334138342732, 175.9122298870682, 169.64573551519564, 174.55102881820784, 167.1717004965435, 165.89281870407686, 167.9153196708992, 168.83661602768203, 171.08937815975628, 165.63319167204025, 167.91544926297414, 162.94793658710205, 176.488854741725, 177.74954952127877, 175.8636115308959, 173.23115214512472, 174.2344987222308, 170.88333311135125, 171.51897169366222, 179.73149494624724, 171.68991856611507, 173.74375277915783, 166.29868269781755, 172.656913180778, 167.38410646434247, 178.47115473284822, 165.50079656335654, 177.9571448076505, 172.83238615524309, 161.26763188542756, 172.5248866603235, 179.2543080982199, 175.22820640225356, 170.02854009369636, 173.25375692594133, 164.69782529000824, 171.91538203119305, 173.22446488960074, 177.4766935615393, 175.1565798556476, 171.91993331398362, 168.78852667987007, 163.08586843411248, 169.63283878440717, 179.36273737532366, 173.17391278761795, 168.93772754506637, 162.57126017619495, 164.96291404639263, 169.97293685158968, 171.37395604377699, 179.60023589027418, 167.72106629636463, 175.61848589993022, 181.5159249884091, 168.64789321845575, 160.28006083211807, 167.02763957588417, 170.2705770598032, 165.75896693266267, 175.5618305460483, 169.12216641653097, 172.54484007150685, 172.1787721809157, 173.19376704513903, 166.2736748404267, 170.5672951346787, 170.27788456114638, 180.55256689230112, 164.4656894145383, 175.53401488686322, 160.33153183541066, 180.21557490649087, 173.9864981068207, 178.53381547677662, 168.2097960081829, 181.05887367481398, 178.09067036596088, 179.5306413711728, 172.07733191212898, 161.20814809018958, 166.0222809882801, 167.8628276623605, 167.79604444234965, 178.02463830484606, 180.62822254915858, 171.82505595329204, 172.7598784464631, 175.39695174536362, 166.39166597159343, 165.98412887370156, 169.89386130753655, 172.65524085187576, 170.07795791947157, 164.20132118705726, 175.16200020679298, 165.75293652112052, 170.30019697844588, 163.42490876408806, 181.00112869882477, 164.9461558618361, 166.67142992344628, 178.13581150809935, 172.1642551890865, 163.73842832076465, 175.43363574221544, 173.39499963723839, 171.10811593058875, 166.53822189524425, 175.98395688436526, 186.01345929187343, 172.96746849736206, 173.7743379017998, 163.17676305472787, 162.02860976308094, 178.2235977126429, 172.06541572321132, 185.74127511792122, 168.31567700782685, 166.7007028607859, 174.81434310468956, 166.48470042735727, 175.53645082300756, 173.3382499941332, 172.83315047941824, 166.8346747868668, 158.6624369678475, 168.85070166151235, 173.17216743393124, 168.65975371826744, 176.8137984369739, 175.76940016719928, 172.0181183392648, 171.17745176811113, 168.2720840737341, 179.6335968165842, 165.55590856441296, 167.12563962604347, 175.55330460032286, 173.3824537068304, 170.21465029126776, 168.1708825752822, 170.75499673176031, 166.4807593370731, 171.9912137364084, 172.2363950046188, 172.5233101931537, 166.08173006723032, 174.37388422089649, 174.86805601002612, 169.92575521709736, 170.08317810371142, 170.2760919946197, 174.50464627519233, 173.1926022880933, 177.5156775998357, 176.46595625726164, 170.44926865986847, 173.71576558070663, 170.21746424762063, 168.22823648347975, 171.5525543566225, 177.23711919441183, 173.52143015541512, 165.2117409606108, 173.29172994918738, 173.4063491785657, 175.70029928495984, 163.37240064949552, 180.63932656468097, 175.88955204791492, 174.3853028281604, 174.77826302295745, 176.03094485431916, 174.62183478866612, 177.04914499753815, 172.79246054576703, 176.557211451523, 174.90568911764296, 169.05571856486318, 174.43154017573588, 167.09177479034952, 182.27949715346267, 173.86199787999504, 179.08806070018878, 176.48289048925233, 167.5182436680837, 173.1106657267854, 168.98335967117276, 174.23746351255602, 172.28614004519906, 173.35749331387817, 166.58600448805024, 171.50823655206148, 170.87051343404863, 165.94885818356093, 165.98372369954333, 165.88638739944417, 175.67459470006705, 173.31401812012047, 166.02591653929406, 172.56329735922543, 169.19182510157765, 170.466048696744, 176.5910216852535, 173.57862698937845, 173.27045933353202, 175.40415573422297, 165.1413824172329, 168.85952585702535, 172.23996978694512, 177.4159015564471, 169.97404245979607, 167.8010782804517, 170.54652870755518, 168.81297791895136, 169.87539492832659, 163.64455894040154, 176.8297110969384, 162.61325870949142, 179.65590073767189, 171.97231538903, 184.92845300624788, 170.036093140659, 170.56474368770688, 179.5229600753993, 175.35992366530417, 169.28435005209752, 174.2170211211842, 169.2349591610726, 181.4812292780714, 170.57238763039922, 168.4345622253801, 165.82525382123092, 179.51542486682973, 171.95290908157105, 170.2436400991367, 172.17792565454107, 175.33203577898703, 169.87773608830264, 179.91790493911242, 178.22172068760653, 170.33280646343832, 172.20293980686813, 166.83081423336372, 171.17628121405613, 175.93051634617655, 172.48560370802613, 170.81624738497626, 177.9146964176997, 172.03664818762186, 181.14742205991513, 171.4889956680039, 164.29362560603101, 175.30517113142372, 180.53732909477665, 164.9648528711213, 179.53666372624718, 170.3635249167867, 172.85427617963938, 166.18799105814477, 173.10591451342367, 160.1036505076767, 177.90382421900466, 173.63659131856267, 165.3072497194094, 176.75844426965054, 180.04181377050537, 174.75857056321982, 176.5611134055325, 172.19115137855331, 168.50011855301506, 173.5070006771141, 171.00231184656766, 170.83111057707754, 167.63502544528896, 172.4831492463289, 165.96187434351845, 171.18783137803553, 165.2825233894523, 163.9479120221301, 170.15718085879735, 174.3853028281604, 168.38490753436795, 169.21931066204786, 164.36842148547433, 166.70838522044372, 171.19797761984054, 175.0406311786204, 169.2612430936518, 174.03921210910985, 159.4652311310487, 176.83541026076588, 178.0610986807132, 166.4495103714312, 174.83021209341635, 182.16668685622048, 175.88955204791492, 167.75848869353013, 169.75084531198584, 165.34136235579948, 166.16547565671544, 184.99547607391378, 181.22024288729844, 180.5597365723102, 167.0524136327388, 168.37039428474716, 168.43006667179046, 169.79354968491901, 179.70034285225617, 172.82236731013768, 168.0151034889649, 173.66149963329863, 170.8798152680253, 164.60398143450982, 174.41360898498218, 175.53245402608513, 172.77246308325067, 175.48468323067345, 177.43894068881173, 170.86405450837955, 171.3018751009548, 178.3965091049325, 160.7555995137011, 169.75581178304293, 174.38621678362585, 169.8139349108134, 175.281471200504, 174.94222979997133, 182.2908722421036, 173.88226560883962, 167.02763957588417, 173.21301348389386, 179.64267260997013, 164.4098792738776, 167.40363481500356, 169.16372615359484, 178.39445397689147, 167.11543937514136, 174.3927699097382, 164.69109194040274, 170.06425261270957, 179.0912448530468, 178.71042768680832, 166.68678919920882, 168.11227742506256, 176.19849344909545, 168.02892805892225, 172.86174249981275, 171.50414920307736, 165.06355946750395, 176.64107369797907, 168.01451168777098, 167.3718081376308, 176.96964324049276, 171.59361931180607, 177.68017414651848, 170.79191124627752, 173.56477748272602, 175.65811337900433, 179.28784917036543, 173.89401277731844, 174.1162818228643, 174.73142838059755, 175.4051335772401, 173.9794041108241, 166.60988659099627, 177.42787203238447, 173.6666171193878, 172.87560024962227, 171.95736553114085, 169.98788945309636, 164.55491783166264, 180.01972615161898, 179.58711079945, 172.8246169381749, 173.93794272919502, 173.9077070379219, 164.03468032344983, 182.34894380280127, 178.11501267397276, 181.38220335155643, 168.35221073261047, 167.55655408514917, 173.2951578327656, 168.00545129984067, 170.75022817309335, 170.81039157840985, 174.56497521360873, 167.13559841915207, 180.3323374056571, 176.25179424110337, 166.80078468870815, 176.8158264986279, 180.20899903666472, 176.92920086773208, 181.5159249884091, 176.10243306166808, 171.68661964207087, 169.21921465990383, 174.3951107336996, 168.26965037807994, 176.03022691837717, 171.6914400324114, 178.52705749025836, 174.01145216176263, 168.14565003598668, 171.78190037409152, 182.31812050617006, 162.14993390011085, 175.01918667542617, 169.50242091743561, 166.24043226616848, 173.82735244836996, 180.273687390579, 172.47444946859073, 165.75934448912173, 172.09850524014615, 173.4972022113298, 166.49037254364742, 174.94143827011956, 175.96000650026954, 170.21264714862363, 172.0180976694822, 172.6547721287128, 174.3116243294579, 174.55852840832668, 170.1065325355371, 169.7524016895148, 175.33359994943618, 177.51729054348954, 173.94506344170765, 166.26743913211877, 173.3616470852482, 172.01382240375656, 174.19914187431203, 166.910159629984, 179.04949004084014, 177.37121371147433, 175.7714758638102, 159.94107010913305, 179.713973974153, 172.12536751011098, 179.98090638902792, 170.59615748075538, 174.5167109755452, 175.30300731287528, 164.76725326256218, 176.98762838134837, 171.2958718018653, 162.54667639815108, 176.43142823471027, 172.19614843195225, 174.90590849525816, 166.69272472198165, 170.4670172281659, 172.5233101931537, 164.95313327149313, 171.3290016635371, 174.3959156812662, 175.27489080041408, 170.35906939336218, 168.37501577665168, 166.48239480823298, 172.8246169381749, 179.48145716614383, 170.9846507311042, 161.72588935943799, 172.863997187928, 170.88386205060175, 167.3114985253923, 170.68287911183535, 167.52951790376957, 170.85355901518744, 170.28226390995925, 170.7632175610475, 172.53008573365247, 171.8257699307041, 170.31256812515133, 170.96049281419243, 180.38468220490446, 179.27003601602027, 170.171642412857, 165.43348432352693, 171.43449340251848, 179.18588927606635, 173.7943483057526, 168.29700279541953, 175.11315010555538, 171.77933099384856, 174.54512936259835, 180.6381828643096, 172.32126093068476, 182.93272276523757, 174.30529730554622, 167.39356952888653, 173.59234486014915, 161.1038393772086, 170.5195583438758, 172.3769653092359, 175.78659084342445, 176.866454122496, 165.6533262726581, 177.0496729993704, 171.20667223236725, 168.81232562194555, 170.90233874085877, 172.1704647146885, 176.59059591461627, 162.8945375138307, 179.17233925532182, 173.7914122492178, 171.3723314903339, 177.83146136365895, 169.89835894460793, 164.1951289235858, 172.26941145968038, 178.32778869698154, 173.8106044828834, 176.24277114067343, 173.93212559526094, 171.7695457642837, 174.35643307064979, 164.83998550296118, 170.86371133305207, 167.92076185013366, 168.46642088446654, 166.9705717721651, 173.81455109806285, 168.50433322411573, 173.33267094813203, 179.90329541368982, 177.81252528526684, 170.48185182554406, 169.855685305454, 171.49672568745473, 180.71306024746283, 164.35648604252282, 166.96434770728843, 173.38603555834808, 184.4039732737818, 173.05908318741064, 175.10399473660166, 168.36763919159154, 169.33620540113523, 172.08087298818035, 166.38087873575012, 175.6024499938588, 172.701402424732, 175.3740478996075, 165.8252273765154, 177.51598897129995, 163.44562913840898, 176.1738045960057, 168.85858578391552, 171.40590145756912, 168.14631815137076, 180.3424980883101, 174.17808404811797, 181.88171863321912, 168.70026327725054, 169.77656381717878, 168.74269427010185, 165.38095065039735, 174.6685332095556, 172.88616931342415, 178.539171916166, 183.35997294589112, 173.38651253990972, 163.8066362193297, 166.18147965050065, 178.57668757840287, 173.34307124755946, 173.92319608843877, 171.80458232447359, 171.54395842516348, 166.9410810322811, 183.92316750575722, 171.9220206938025, 170.30994963665094, 165.1577187285361, 167.38494037276084, 177.6691996275683, 170.58254816728925, 170.57729893036958, 166.58852195921355, 170.2513018696371, 174.08948637924888, 168.07998970941125, 169.48102566825668, 168.22823648347975, 170.77499536748084, 171.32626134082255, 164.46569448855348, 163.01352812783762, 174.52673320106044, 169.77376736874288, 168.8634966251174, 170.86719972475154, 164.89944373794233, 166.5329426543824, 178.38180999645937, 176.97826169392758, 166.9882034710823, 173.035392991915, 171.36592948764317, 171.14012161488762, 171.90252209858002, 176.44509255763307, 172.88690201573374, 166.17006665541476, 172.03127705267303, 160.12620241339863, 172.99249756837608, 169.91415969274118, 163.78791807084178, 168.6417384107694, 171.85891987263378, 168.78078700347334, 167.11012617767756, 167.05489365408098, 174.97678589656005, 173.9917181867293, 179.0579099502105, 179.67129599569424, 164.8214976995121, 174.64337114254928, 168.2111880112452, 175.5216991161669, 173.30591903511237, 172.13618337572373, 169.31799474075703, 174.70003808805794, 168.42162021357106, 178.42850820632017, 174.32492922827575, 179.4965523524047, 173.2256890165922, 172.22443905791357, 173.966459636835, 174.1176743607076, 172.89492558633543, 171.29099008892686, 170.31724745461335, 169.66261321948255, 172.94119045508393, 163.06551123926334, 172.01100415542598, 166.9493540417225, 179.4965523524047, 167.8635002646098, 173.27827548994858, 168.115744522778, 165.91984793017832, 173.76042408821098, 175.15517896582915, 166.23758824515323, 174.28320120457462, 169.5413858666129, 177.89339266786914, 173.6182507461411, 169.010122913945, 165.70923869392175, 166.24121246877965, 166.57506627253554, 172.64321345071374, 174.77177767092186, 167.8628276623605, 170.94249735131024, 166.35447612219005, 172.9954364870784, 169.90331330921578, 170.25759095627927, 167.37987481583144, 173.46147431637962, 168.6525787218904, 172.00993441622262, 166.06340825052064, 174.67121419172952, 176.6928474705062, 169.91218921237336, 174.32634769093053, 163.86209635482885, 171.62929933246437, 179.69843093946352, 181.71232640569346, 172.07706037626107, 163.4325802770158, 182.46343170104495, 173.39601435867522, 164.18511711438154, 172.08538357626531, 177.43180680770507, 165.68554075478022, 170.5257512881498, 177.4237081394573, 177.9438767621055, 167.90602096459423, 177.49893468542177, 166.08677034488946, 167.83451609794332, 175.47073602341715, 173.6886824319543, 168.6898591123029, 173.0414050804473, 176.092262822993, 174.43700385876403, 163.8764349027442, 175.57469989096947, 175.22699540101823, 175.66783884283, 173.44518544367702, 162.56709416520067, 172.8531543498935, 170.54522528503023, 173.12882854047592, 169.71599515556986, 171.4503267765018, 171.557597319027, 169.24396588855024, 160.4821772368202, 177.143667047074, 175.90179011053277, 171.97945967887063, 167.21281252257032, 177.40139014062075, 167.9146047558412, 173.5647110008157, 173.28250328417306, 172.63917762508473, 171.81356787790088, 175.10484148745618, 176.88217393053253, 172.4325620691756, 167.3039604453599, 176.05285403974108, 177.12586542360754, 176.1697435228745, 178.41930497636642, 166.02058932192207, 168.4707767414323, 171.40511926571716, 177.6867124635394, 161.5569272044068, 173.2114735846607, 167.58181294939027, 171.02194025946622, 170.75499673176031, 170.2216790620027, 164.68837141423325, 168.58931178846422, 162.9352476059043, 162.09124195848818, 168.83605011184605, 166.440815661095, 176.64278600192213, 169.85844116259378, 168.9886163791506, 172.2502878233473, 171.31098749857503, 174.0803384296187, 178.9120466187551, 175.13486114780181, 168.85070166151235, 179.41371088771425, 182.6850343593183, 171.61601589194592, 171.79217343195361, 171.76486924381314, 176.6000654243548, 174.8622252166818, 172.30771254206232, 172.34141705839, 165.73698413863013, 168.97960873101675, 174.37388422089649, 170.32865954513633, 170.60675958755925, 166.3510924357783, 168.7706473844242, 176.151368395017, 174.41891720324932, 161.10372445803728, 171.47147038486628, 161.19094671163566, 175.8733440441409, 172.22285699796475, 169.77521154346837, 166.59835057804457, 173.57707491717292, 179.61072751082614, 165.42122248387406, 174.56759547067443, 173.56119039620137, 179.87377376587142, 173.05805081608597, 170.93489518457704, 164.76802079846064, 182.30324299435213, 176.13992418494047, 166.60548641671207, 172.4492408512831, 166.6273722880302, 171.04363153341222, 174.0542092568618, 169.27393529437686, 172.95914622406616, 168.40600080417556, 173.6305497684732, 180.9350902117671, 171.92871191058646, 167.71110123265098, 164.1688678503549, 165.8679744771799, 174.6639211891495, 168.9286971632439, 166.00940230141765, 169.35165335650595, 172.1933668640293, 168.037768712106, 173.2282098981092, 175.4479503812789, 173.89450802814673, 164.38549283484022, 172.90447094471358, 176.6688402290502, 169.38495980543055, 160.2433761399884, 167.69357453508164, 175.68263134577714, 175.2623516454516, 172.06416438313508, 167.39692123318298, 167.77741680309913, 180.84174902474462, 173.36794059143133, 181.98320508365387, 165.29316903626503, 177.39088572548914, 179.46746209932374, 181.26639882401497, 168.2049894782613, 174.19817767702955, 170.5411348391976, 168.94395828023139, 169.27456966549522, 173.3831410194688, 172.73264906103248, 161.1666577016493, 170.4708966360005, 164.02847315199114, 174.94832862305722, 170.15172546182, 170.67990505093675, 177.08451526387177, 174.30982681764806, 175.71012726131406, 173.84810267159477, 165.2967485766169, 168.33039958424018, 166.2089852991716, 178.37899685158763, 179.61284569301, 175.20963903091678, 165.22922406689653, 169.78576573846425, 173.5876819184604, 173.9667754978393, 180.23839674771912, 172.29081948760935, 169.87195231265068, 178.57265519245072, 168.77142771400545, 161.48639963236414, 175.3082034185178, 161.65681199435997, 174.68218471153745, 165.89844872281355, 169.44445490870996, 178.15992444935563, 173.258644765378, 170.3632473748575, 178.00390146421265, 160.78368206595297, 173.13986300467582, 169.76778271346828, 169.18295672021355, 169.68994527801183, 174.9744874188073, 165.69701253761676, 173.55638886866632, 179.11417102451932, 168.98952779096012, 171.62467514959886, 174.7979960621125, 179.86441260946123, 175.2478240818892, 171.42038916660107, 169.1857518423614, 171.70235987238266, 178.97915104603874, 170.34415631182893, 173.55319924763697, 164.68669571001072, 171.65329416326202, 168.1207584607054, 167.66390110494123, 167.83747074442786, 167.6915533422504, 170.50773534300532, 165.3766618406105, 171.59918845412736, 176.7611672454195, 167.85037284645148, 176.71645359431963, 174.2885231845529, 169.18998580888172, 168.62270205776127, 161.46383922791142, 172.85249209973315, 176.70025100853664, 175.83343157196572, 178.76579291725506, 176.8114448730764, 169.17957077881573, 179.73179647249057, 175.3079198651473, 166.07950573310032, 175.61211471257494, 164.6257311615384, 171.57762094892635, 165.50077777208188, 170.89801007627906, 160.77815784494862, 166.25054615734234, 176.1201785730943, 169.21353832031355, 175.38810432502444, 165.27492647978355, 174.84819286419528, 171.68002978747768, 171.61369572087222, 171.3035433287113, 177.55874509521283, 171.44327449807395, 168.95120864169175, 176.37088297900624, 168.7973965487601, 177.45196657825318, 170.79069142674703, 168.90110676206783, 163.06646233672723, 170.43198802950334, 178.02653728277045, 171.1258532663627, 172.19679046605862, 171.06127740302327, 171.33412218374073, 185.39243983681527, 179.22612611543593, 172.44355612903496, 172.9029235837035, 180.03702191441164, 170.72287666494827, 181.73637550290982, 170.8750685841941, 174.9961309445339, 178.03614982232662, 176.4850333521581, 172.3316062998273, 181.6713592818056, 174.04389105020945, 167.60157666773722, 167.66071524957945, 171.29815521253136, 169.87262045956578, 177.33184262705052, 170.32220780152872, 175.97630221941182, 176.46044549900307, 173.58653900042867, 176.15185562146704, 176.12465741035052, 171.1836978815905, 173.3282901080548, 167.47100715652317, 169.04289578256737, 178.028149183881, 172.9927641097787, 169.0623411234469, 171.4252329569221, 175.98852435722543, 165.08974021151957, 175.24513127923882, 173.82272605319085, 177.37190229839038, 183.17469226747787, 180.34121165368802, 172.60150110372885, 172.75146433182144, 180.93666245506347, 173.25574277665345, 172.8272355296348, 177.36727135759446, 178.88453809903544, 167.09095053670987, 170.82868196710038, 171.5587291702565, 177.43504931693212, 173.59769287923564, 170.2458755374283, 181.1273158716113, 165.980753553102, 164.1153941708468, 176.96643753681136, 171.48271209777042, 168.26281772593632, 172.6741774892021, 165.122532838463, 166.58852195921355, 172.6956439311714, 173.84454677935912, 167.8712246633175, 166.47781298185475, 171.74574246751973, 173.42558727077704, 172.60596547540362, 174.45183403347028, 171.88994221472166, 174.23671814924276, 168.19490604660294, 176.63015151936293, 173.86259096925744, 170.92013842235394, 180.7724850165865, 178.80485330575456, 177.9279021649459, 171.36239133725036, 172.23873105599804, 168.03174684599406, 158.6601723995062, 165.2500983369287, 179.90101596484485, 162.4200748541653, 164.48906775040734, 169.24660341032552, 171.803653050394, 179.61284569301, 173.021399456953, 174.4579970442394, 171.4362869788736, 175.27883270437036, 171.32279822694986, 173.52313340022454, 168.495974941278, 178.50937533681056, 172.98404117697748, 177.553164828874, 169.27855728956527, 171.8696206323208, 172.78037005154795, 166.79651857674315, 166.648357936068, 177.08702542427736, 173.25681653002104, 170.94002009699344, 169.32435064022107, 172.70397870151913, 164.68801569072158, 172.04863145034852, 172.7057491478015, 173.41544928155577, 176.35798437639534, 170.56757652250496, 164.76725326256218, 166.18799105814477, 167.81347150589178, 183.59367369432286, 169.38757393559706, 169.1048619100806, 167.2219383706061, 175.4702457397111, 175.51368272724275, 168.03818009995206, 174.20529483615948, 175.40073817272327, 166.0993564027645, 174.57782058974846, 168.6605336644473, 171.13502808426213, 170.80299060991388, 169.80285457608687, 176.102879434743, 175.1949778409628, 171.69350351113087, 169.52325362784427, 177.60601715593242, 171.45586872292307, 178.30096533723582, 174.98633505325876, 177.64636231042255, 172.5957173331731, 169.1959957978278, 173.00315304549403, 163.37240064949552, 180.99665663976313, 173.96505110363265, 168.72214652396445, 176.25023326138717, 165.40411439596681, 161.34959174281164, 167.39361028239398, 182.58111642405444, 176.5564438065593, 176.08534079992248, 164.00388956776413, 171.5942189553494, 167.44625283543223, 171.54802058258448, 171.15507918382903, 171.84455002792512, 176.75114312640298, 175.31468811710013, 169.25795742593112, 172.43760523358173, 167.03937839909167, 169.82922441559373, 176.00368602129709, 164.35711271800886, 177.48104154234886, 172.3931967246697, 166.67142992344628, 176.74276858836757, 170.80880726138588, 169.47651168806115, 179.32485724177712, 182.05998111167227, 162.64918685359825, 168.75579830379243, 181.40482139964587, 173.34431879700273, 167.23906577339775, 165.69527534944598, 164.0489949986031, 177.26680838710465, 167.4722018895057, 176.2048907073531, 167.3281999956206, 172.0068998775843, 170.89147951021886, 172.82796078327422, 171.54740978655187, 176.2751798741289, 169.50616361081583, 167.68389069852205, 168.16644305881647, 180.8043829147569, 163.36633647969774, 167.93473079083964, 166.62684921630253, 182.8032006373531, 173.2573060304205, 179.25499767271134, 168.77259758583338, 171.18385291636406, 170.34960798320785, 173.80766251865836, 175.23522425057973, 166.31574881434216, 174.3520516689499, 175.3462657385628, 168.29771383601025, 163.63710210201273, 174.38103356909627, 166.16201290198686, 168.08640181128217, 173.42558727077704, 189.01295251784293, 181.87634443087313, 168.43973481717728, 175.27489080041408, 171.598907274734, 166.5247184103969, 164.85579071111977, 170.38349016623684, 165.3396928655212, 170.4199579145126, 166.8715202200548, 165.00358538596404, 174.51691416735366, 178.39216022270531, 173.50267043886066, 178.27317883404655, 178.436710767126, 167.00267158300684, 179.14249853772685, 165.65584885907128, 159.87297971214105, 177.59289885474752, 177.5188109106553, 171.84507517934838, 164.49591040071238, 175.3825024308208, 170.96391468706878, 170.17872106055387, 163.0626643027271, 171.0718648556911, 171.9220206938025, 176.71079245539698, 177.3133379893968, 179.86441260946123, 176.04119246471416, 173.4504401901857, 171.11212497828575, 172.21481355878737, 175.61941572893602, 183.5963104189369, 170.27788456114638, 167.71835372552806, 173.11573733031037, 159.59629678321164, 170.7325325949922, 162.8654667915314, 172.66568833192295, 180.27612156818927, 167.873837079153, 176.16562007879023, 173.2056948467973, 168.8819333147683, 163.98160528863536, 170.466048696744, 159.88925517738105, 178.33790723136664, 170.66065198532394, 168.39382490272686, 174.88473800095318, 177.76387584720086, 174.9646897454385, 170.07018858233334, 180.47499079951154, 166.4895375219876, 178.3778247081185, 164.3207087295127, 165.72795906978996, 168.51864231738918, 166.8615093824711, 161.65327099931292, 163.48332740711714, 167.8113915022935, 169.6459707459045, 168.8859917288159, 169.5613012841471, 180.3401611475936, 177.91155238065662, 181.2901123362413, 172.69632806405008, 167.59461522656875, 161.6680404860316, 174.855117452421, 169.43384774065882, 167.90597030777542, 169.90475908286948, 173.92479810748515, 169.37406440704027, 177.54648807335337, 168.53831526355404, 172.9416949142783, 177.48282260055402, 171.3864372413536, 176.3403048153819, 169.83458240211579, 169.18189149310876, 169.41996674361778, 173.3944261181322, 166.4932034992317, 175.53834283056332, 173.72288875467547, 175.48131683049186, 175.5639489132073, 169.3154475178613, 177.10552447330844, 165.2563687517546, 173.21508140992955, 169.13246427525317, 175.68610763970224, 174.79497418852782, 171.14490748243543, 168.08226885877545, 173.8091159353832, 180.02466501894537, 169.44812008125422, 161.95611659605575, 161.65646954340062, 164.67441330930154, 171.35737332959297, 170.60769387245568, 167.1105800312424, 172.08258921562688, 171.66213778275292, 174.6152957537568, 173.0489787540364, 167.40220504710268, 182.34672735726346, 170.7244183220939, 177.47367247983865, 163.64287245972224, 170.75867973766148, 170.62928262718836, 168.8505928661041, 169.33820586435695, 163.3143628694066, 178.76601785014398, 169.46753820047553, 177.86707861559552, 172.84214322807324, 173.93229830993, 166.64859581756588, 165.18308134951454, 176.14286894276606, 178.19173265852444, 171.07359058564938, 178.24775133554536, 167.0033065706411, 176.2048907073531, 177.16319444906952, 170.19909471448963, 175.81251401547811, 170.64916223859245, 166.2854144017579, 169.15597470898132, 174.5079701144032, 173.49727141900476, 166.58360135150048, 170.45624738591872, 176.6037807806989, 171.11237575245815, 164.49591040071238, 165.14250429433366, 163.95179656513932, 168.69625842908619, 177.12960103305343, 163.11921966247002, 171.79237229824585, 159.86750158475337, 174.45621654774214, 178.19220059728306, 175.14820339434328, 165.2947124025864, 164.55491783166264, 168.4818634047698, 173.74681559140336, 176.4076906170214, 173.60099093301596, 168.9511009469325, 175.00241510867227, 173.90263799748163, 173.10055637621932, 175.26057981928193, 173.35238247936599, 168.2138626770917, 172.43008471133973, 176.4028672221747, 173.12302691036473, 176.7920194930341, 160.07093394054525, 171.92478190284837, 171.63398573283496, 171.17640724972273, 173.27486729313551, 162.73770318694486, 165.56955821878753, 179.65669111668257, 167.36983307769225, 181.50316010234707, 174.87069309177895, 161.03893752926675, 169.1616610337643, 170.89630366420687, 174.46842505466685, 164.0360540229146, 168.840383372649, 161.8676683196259, 167.41053090311328, 170.24260075924778, 181.2317609433756, 171.93136097792507, 176.5456071755759, 175.48369620322003, 185.42790751192052, 171.8771362248778, 168.6567787512143, 169.50064335317015, 174.32136992906942, 172.06201925253984, 182.64888321263476, 174.8432239071901, 176.0146074812834, 172.37040285910763, 164.3450143124402, 176.1663618528768, 172.05330908829862, 182.42619827148135, 167.66793710669393, 168.0164466390309, 176.5366940095295, 175.47045718379465, 168.22505969621713, 171.5890866168419, 169.01515141302056, 168.81762821067952, 170.52932535628796, 166.83729106987826, 170.08019992000294, 174.72381141783347, 169.1013913871662, 157.78809444747654, 182.62894135832482, 172.8093822429097, 163.1681108927554, 175.7509347640823, 176.3791369976381, 169.52661880428244, 173.04827238267262, 173.41076074869264, 161.8235346455332, 179.70986483955616, 173.96225785999974, 156.5476169872359, 174.39882258329033, 169.83950331997394, 165.91133103144873, 169.0494242490755, 175.7873962250545, 176.91887779355238, 171.05860801361231, 168.73149408818307, 171.13482876539487, 169.65232442387128, 170.66558689472586, 173.80397931331348, 172.4845876313524, 169.61971968799614, 176.46940451367522, 177.01909954450926, 166.6149219609575, 165.58360992273782, 165.325713967511, 170.08687384337568, 170.61163929157124, 174.09651750625034, 167.98603864789013, 170.61380480304845, 164.187227692783, 170.73557730146143, 169.21009829570474, 174.82102044738096, 165.09659595578336, 166.79649897829105, 168.61596888920724, 170.60700265506597, 169.86043652710896, 175.56211368670782, 176.1939070248084, 170.62848389786433, 168.8110472686298, 169.71916742626476, 170.56107449425062, 177.48666522027548, 167.01839219255717, 179.727028822253, 172.75229651302206, 166.47859656162393, 174.03386389280624, 170.92637985378497, 175.74476476272406, 177.22306945130785, 172.70622760428404, 174.80737088761796, 160.78585467792377, 170.91218783108502, 173.73390340867397, 170.83091999484373, 166.64057924043763, 167.50960173926202, 168.06511135809203, 166.7569024467697, 161.41129746556368, 173.83469307509267, 173.87126896331696, 171.07359058564938, 172.1298470107662, 181.78663664503344, 173.26071967958765, 171.37884342340044, 177.0346239791049, 169.86372648569397, 170.32519161168494, 170.3788472846371, 176.634220000361, 170.00995422128673, 162.30025406154624, 172.4739691298532, 172.61985370723892, 172.93617547346088, 164.7828457016875, 175.18240259341, 171.1403020853636, 164.80273057185792, 170.4082062933002, 168.850450009653, 166.79920832610966, 174.4538911411125, 173.63102911820906, 168.54161528164843, 171.69447713726709, 171.2395574233759, 171.08520808438348, 167.22335476707153, 166.87472226388854, 168.99528644781074, 166.54393746221677, 183.5957726576737, 179.1337554461225, 170.7388986392958, 170.1149869877169, 161.2171326169655, 166.87505937205248, 176.04180313122964, 160.67169272182264, 171.19010680005826, 177.92727060176023, 172.73845761800442, 178.20263793068597, 177.88788603868318, 169.2714397221334, 169.75404200463498, 170.58877801553564, 161.1604812648763, 162.73103059156574, 178.16537282464472, 167.16922566614565, 174.057045193486, 172.97251574711137, 177.9957868135536, 180.59444112198406, 168.15449603576897, 159.45901017548326, 182.59830231647578, 172.9945432957618, 173.59571908103817, 177.38816686946424, 158.7648770512096, 171.50938720887953, 171.53357447205687, 172.93599222393865, 171.72294499310928, 174.7036758866686, 170.4740002680971, 167.80009661094164, 169.9438761842481, 169.84742678148538, 176.49815212945907, 182.45278085822991, 171.79701292448505, 172.55434162222448, 165.14381124616708, 169.7143772161226, 181.41191992853922, 171.0508452202818, 174.16566646263038, 180.53165029169065, 177.5621559809965, 169.7524016895148, 165.49226345845057, 172.13387629838348, 176.96643753681136, 173.04555892869362, 175.1336832397115, 166.08677034488946, 181.25154777522968, 174.76433096742605, 172.0358407160215, 168.09779107608935, 174.7777039457766, 166.5748096495693, 178.9504209239912, 168.9566760537948, 181.10657649331932, 173.03316706499237, 176.09924631880946, 182.90484696807735, 174.03303709832767, 167.67630967954136, 182.9339541123691, 165.44212088683628, 175.16436760891793, 174.75909972488665, 175.17255506317176, 167.5219204768896, 169.92436039238, 176.5573498208153, 173.99641756031912, 168.84532738983336, 181.30895651638698, 175.16916568887038, 166.21203492174175, 183.55805318480017, 165.7203936013716, 174.1749421396307, 159.5259376358933, 178.37646019209376, 171.64934505726723, 179.43346930093733, 176.9134414378783, 166.0484356643045, 171.79385863349188, 174.59606286925398, 167.838661632587, 177.77906444476233, 166.59674913716225, 167.99410271226492, 168.67546623612967, 171.03285018339437, 170.02805286809973, 164.95235205740363, 174.0026805259053, 180.3503718619678, 169.52639161360457, 169.6515150371494, 166.66208178076968, 163.99524776250803, 170.97729432137314, 176.23507704462344, 165.02866895768506, 166.21326445278407, 179.33018303599388, 167.7016445822443, 162.7345630264059, 173.33052148846986, 175.49418377865405, 177.5625482908426, 178.56169979107668, 163.17995350866227, 168.3266260813211, 182.77601250155772, 161.02078877661359, 168.04450754508932, 174.77793839844017, 174.12900182594845, 173.63408098052201, 170.38017340598356, 167.71623461581518, 165.6554039630936, 175.19179496071143, 174.55363389066227, 171.18906851294435, 175.57607771817797, 175.28467677144923, 173.9682951830882, 176.74276858836757, 170.1100356638986, 176.52099587446185, 173.64860372436044, 178.85742476392488, 166.87118294973055, 169.49155705088432, 172.308764842952, 177.6054246845681, 173.47898806234937, 164.0711724110752, 170.89633988046236, 167.8492619778202, 167.52578510569882, 171.62035610161138, 171.1344085696348, 173.2566627663031, 166.42501433107506, 173.66175801561354, 165.50077777208188, 161.75809138470714, 168.33187588699778, 169.92575521709736, 177.77189344650054, 186.00367689306185, 184.87922633144308, 173.91662314262746, 172.17009167425715, 167.44227284429206, 159.48103763846518, 166.53697569285728, 169.47911138840155, 168.94395828023139, 169.81583185388624, 173.98531004212316, 173.36330163022558, 172.4986956975152, 170.4820289173569, 166.96835006360703, 172.84778792282287, 172.94183932975326, 174.78708175271427, 168.6090297614372, 173.07471722941892, 175.79186266178164, 178.34969184399714, 174.44654606132974, 171.27060007975047, 166.67377555500016, 173.01132919321907, 178.15043073879278, 180.46545556305367, 172.62213637325786, 166.62058443830526, 170.58110926459713, 173.92697197067704, 175.57655649314205, 174.37534591346676, 171.32821701157567, 171.67888748100717, 172.4763802015919, 165.09659595578336, 174.38661564854007, 176.87880245983916, 178.25705666069513, 169.30234267803306, 166.76178829234945, 168.95098455779544, 177.71557114849676, 168.4377820277302, 172.35343433439186, 164.66746677067846, 174.5762102605618, 167.81355885620596, 175.0157447546612, 164.0365649164688, 166.4284209554148, 173.7219227751281, 169.7089313978047, 166.47159823912057, 166.18063687669377, 167.838661632587, 176.91507780211364, 177.28876356717473, 168.6427879571491, 168.20916645973224, 173.07304890934014, 176.42179368240036, 177.3286107734621, 174.44412901316687, 175.2140837866857, 170.2914935148449, 170.89621478534383, 166.2241114877471, 172.9945432957618, 175.59447906901408, 168.0641835680123, 174.7024491063002, 163.95269953952757, 172.37086108815564, 172.3283240312842, 171.07570411050733, 166.48363978041985, 165.06606293553065, 169.5561285456526, 177.3773947464014, 165.09659595578336, 178.30096533723582, 173.27948991714936, 168.9306660889857, 175.28443544126256, 170.4537601546736, 176.63088703190814, 173.874958059573, 171.82834673090193, 168.2835923272579, 175.3074785580661, 177.14738845781162, 164.97831621462436, 180.28343201517004, 167.2646197026353, 164.62279793075703, 171.698204349247, 170.19539630594224, 177.53013859954027, 171.0842575659499, 173.5452105789175, 170.77608843378954, 175.1218526832397, 171.40037486395806, 171.46526710578422, 179.1912273785542, 177.60655405712637, 164.80559971286067, 179.99331702921654, 173.4868581548272, 168.5700803258331, 174.7421447925245, 176.6148489411538, 162.85368240800872, 175.79275355775448, 174.09306534150858, 169.99748070288487, 168.82284639837474, 172.76917785179472, 171.76874396882965, 177.40241073527463, 176.4931815787855, 172.54864234221824, 163.9780090029797, 177.44252807518185, 167.80187676554905, 173.9836136704236, 173.65053183842534, 176.41811177590608, 168.60888934233517, 169.4987685308139, 175.35213907409167, 168.42072748181556, 167.02391247933437, 167.07702367912205, 164.54067587202056, 176.46323687199717, 165.94723936393783, 168.9334244247455, 165.51579892158858, 171.55523057781085, 178.30569526885992, 176.0624161171465, 169.18361357664725, 167.98735456511017, 176.4947830517309]\n",
      "[173.47911444163503, 173.7317666636263, 172.54893867276104, 171.43257319553967, 172.7151613148319, 172.82799509412092, 172.72104620090087, 171.35684251559897, 172.06082915612325, 175.02116165843373, 172.87297442836729, 173.10695709894807, 174.28251319331625, 172.16799412617846, 172.2677166306168, 174.1148759511088, 173.76989560652873, 173.53587661697912, 171.73109636549412, 173.6192933521118, 171.4122703231149, 169.8912622859572, 171.50855064552047, 170.79777102526515, 172.13293591535268, 174.04237966386012, 171.41699712312, 169.68751210980005, 170.70138979236123, 170.50288822335273, 171.1227335807866, 172.18184913764566, 172.68945746436543, 171.0001004904461, 170.89451146667253, 171.09020297014567, 171.25533609966612, 172.10797845540236, 171.08827013545948, 172.6513531230999, 175.070689805427, 169.97597644140453, 172.2797674841427, 169.68001261485807, 172.80409332096238, 172.55229420480956, 173.83054118621465, 173.37568836233626, 171.89359355779794, 171.6665742212276, 169.9004743876151, 172.72984382291025, 169.46043079819069, 171.9066883458138, 174.31024504533102, 172.9549236584936, 170.26013472404284, 171.62782407697222, 171.93287814147618, 172.67107823125573, 173.35560534761376, 171.5928923513852, 174.01996330433786, 168.70526103039566, 174.4291544932485, 172.99782989083792, 169.85679627411287, 170.51072224889845, 169.90321605710665, 170.15223960286718, 171.69847097209998, 172.1247564115574, 170.7393421379653, 169.418394777909, 172.90126387627427, 173.349965975603, 172.31408857482649, 170.95008031433505, 168.6026063397666, 169.23740477644245, 168.98395307845203, 170.24977041291908, 172.28866881866844, 169.4954901013438, 172.14048141305437, 170.63029872192917, 170.81450578452282, 172.7564010423859, 172.270704952318, 172.75102003444198, 170.29337424391514, 171.37511929823515, 171.19824057530133, 175.6782843800554, 169.98345772406594, 171.97617797193666, 170.56013527190584, 171.50909868435141, 172.75712339394886, 173.2095114832777, 172.10653392996448, 173.14812711662768, 170.10688635551668, 173.3757843013828, 172.1393269463663, 169.68126101129226, 173.51940617466894, 170.64933192553676, 172.9302606791998, 171.55990939669806, 171.92304718402258, 173.64455234145223, 171.97230993627605, 171.4139294230426, 173.09648158348617, 171.59077758086715, 172.02580024296842, 172.21608501143896, 172.0071934611132, 172.33599701625351, 171.028648188148, 173.3730965923039, 171.63339660555894, 172.24280703841163, 170.96259686809128, 175.03094575416975, 173.6428041806974, 172.95723098557428, 171.9821148360482, 172.86230119411863, 173.2818959291762, 170.74391386736906, 171.85618466569377, 174.516404929308, 171.9757816604739, 172.8532356879273, 170.8863347896039, 172.02699101055003, 171.00702877519421, 174.4668408638607, 167.8482928708372, 170.87326329719744, 172.24076331599596, 174.06036645523105, 173.65199868699432, 171.31020238919996, 172.8757717751434, 169.00973760863025, 169.36066339463133, 172.8394581127686, 173.2849490876725, 167.94708299375463, 171.4944813760528, 173.26676195725375, 174.36603867262343, 169.3835107781193, 170.81702577580646, 172.65881074097973, 170.5043935231086, 174.48530539837125, 169.28374480528095, 173.11587199242774, 169.48869927808207, 174.05802462897157, 170.41037396562533, 170.3850832762101, 171.14614333175618, 171.28870072653964, 172.76671420430083, 169.95471759650735, 172.86382182013728, 172.6225511373559, 172.33656268781826, 168.62332166556928, 172.7111357521249, 171.82186352481727, 173.28085693950445, 169.06595378147523, 174.0801392411933, 174.9773349255948, 171.28213572811805, 171.6730813592417, 169.45634682144438, 173.43393215657332, 170.86374559269453, 173.21556904620837, 169.1862678724352, 171.20026812399502, 171.47106714440469, 173.32428817479482, 171.2691694937409, 169.74157082970493, 172.91823143229223, 171.78081907440483, 170.11860847293156, 171.87026079537708, 170.74069830935466, 172.46488874903895, 172.98225023418647, 174.46081103471732, 173.49400936370455, 169.51557464300683, 171.73063129611373, 170.7169353336031, 174.6602048576773, 172.3849780185491, 172.79482744498335, 172.66798523120897, 173.03683236655385, 169.03388574785288, 170.27625725905142, 171.6548397802826, 173.9110065626827, 172.36666043469813, 173.0806786048489, 170.5454321114398, 171.63218644552478, 173.75734815005714, 173.4663602192376, 173.93185477413437, 172.21851080918435, 174.99259084185877, 172.79446184726748, 171.51052052455086, 173.24255009028505, 171.8830523292385, 172.78335534863947, 171.91694787219325, 170.12924519370299, 171.6125036310404, 172.90245069941636, 173.09703321285585, 172.13187273881533, 173.1671394346884, 170.08389854480225, 173.93739863468136, 171.3831801935383, 173.0648792145468, 171.67286845324548, 172.74454332610662, 170.29325491672353, 168.50440626366915, 172.52943025832766, 168.22985199166658, 173.63375684095035, 173.8223904901435, 170.64928888578683, 171.7803289727296, 169.31058690937567, 170.90044256609488, 172.67827045507593, 172.0422309421312, 173.17659183674408, 169.49895501607463, 172.8853684043484, 173.3982671958468, 169.6718344723641, 169.3434812632541, 175.1631703883851, 170.59481340389107, 170.58426243494063, 172.72334025117496, 172.1307888143033, 169.01609630447473, 171.15681558897592, 174.684931280434, 169.29446475103575, 171.65686646102714, 173.8172097345154, 170.72391555094927, 170.5159267446483, 174.0926258645925, 168.74354262686796, 171.60449755276952, 173.35249290348906, 169.59524622005407, 172.31825115793964, 173.43051530494725, 175.97945459508188, 172.41542957870462, 172.48108913345823, 175.73235560113446, 173.30917671705808, 170.5016307174128, 171.47442800822694, 172.921116303701, 171.1639042540142, 173.15958685889186, 170.6199464194715, 170.84177739176616, 171.99038709269252, 174.23130175705404, 170.4855060493516, 172.02085224658146, 172.08650337240257, 173.12384811687497, 170.09817772721084, 171.4714587067785, 172.78753151796303, 172.85937740574727, 169.39067373385993, 172.88433436767303, 172.09661414856313, 172.27425697400423, 170.7114548591524, 172.19296597942235, 167.52865965907253, 172.32570464261443, 172.72742669079858, 172.5216957174198, 172.05940736419612, 168.8771648188222, 170.44810196307384, 173.01149455582384, 172.52292732563117, 169.7669347411906, 169.465402331526, 173.02223016664223, 170.27061511503928, 171.18421420659692, 173.06750477700962, 173.43258352486112, 171.82939845035773, 170.92672944980677, 169.81785832026858, 171.92871073981357, 170.34135388864743, 169.05442315458353, 172.84601765466334, 171.73522189318317, 169.2123811879794, 172.29730173923366, 169.99961438919348, 170.02830791269838, 171.75064789746975, 170.766935167691, 173.9810026650127, 169.92358516806348, 174.53205578998305, 173.21890262201072, 174.25370792104414, 172.91850748641357, 172.6887688830941, 172.064319088991, 169.88770099269323, 171.46079489790765, 171.48307828152147, 172.59879898682084, 172.37504542447692, 168.70639919115436, 172.76066642690037, 171.6634185490236, 173.98434386877807, 171.42827851034042, 171.77118445785496, 169.17922506646468, 173.782895546607, 170.82035700816542, 170.98291389030948, 172.02218170287054, 173.20080178649226, 172.85589043208137, 171.9024897421873, 170.45743937442882, 171.64487927395743]\n"
     ]
    }
   ],
   "source": [
    "print(x)\n",
    "print(y)"
   ]
  },
  {
   "cell_type": "code",
   "execution_count": 24,
   "metadata": {},
   "outputs": [],
   "source": [
    "counted = pd.DataFrame()"
   ]
  },
  {
   "cell_type": "code",
   "execution_count": 25,
   "metadata": {},
   "outputs": [],
   "source": [
    "counted['Samples'] = x\n",
    "counted['Mean'] = pd.Series(y)"
   ]
  },
  {
   "cell_type": "code",
   "execution_count": 26,
   "metadata": {},
   "outputs": [
    {
     "data": {
      "image/png": "[encoded data removed]",
      "text/plain": [
       "<Figure size 432x288 with 1 Axes>"
      ]
     },
     "metadata": {
      "needs_background": "light"
     },
     "output_type": "display_data"
    }
   ],
   "source": [
    "_ = plt.hist(y)\n",
    "_ = plt.xlabel('height (cm)')\n",
    "_ = plt.ylabel('number of people')\n",
    "_ = plt.title('Random Gen for one year')"
   ]
  },
  {
   "cell_type": "code",
   "execution_count": 27,
   "metadata": {},
   "outputs": [
    {
     "data": {
      "image/png": "[encoded data removed]",
      "text/plain": [
       "<Figure size 432x288 with 1 Axes>"
      ]
     },
     "metadata": {
      "needs_background": "light"
     },
     "output_type": "display_data"
    }
   ],
   "source": [
    "_ = plt.hist(x)\n",
    "_ = plt.xlabel('height (cm)')\n",
    "_ = plt.ylabel('number of people')\n",
    "_ = plt.title('Random Gen for one year')"
   ]
  },
  {
   "cell_type": "code",
   "execution_count": 35,
   "metadata": {},
   "outputs": [
    {
     "name": "stdout",
     "output_type": "stream",
     "text": [
      "171.86600493586496 171.86600493586496\n"
     ]
    }
   ],
   "source": [
    "cmean = np.mean(counted[\"Samples\"])\n",
    "cmean2 = np.mean(cmean)\n",
    "tcmean = np.mean(counted[\"Mean\"])\n",
    "print(cmean2,tcmean)"
   ]
  },
  {
   "cell_type": "code",
   "execution_count": 36,
   "metadata": {},
   "outputs": [],
   "source": [
    "seed(47)\n",
    "daily_sample ={\"Day num\":[],\"Sample\":[],\"Mean\":[]}\n",
    "# take your samples here\n",
    "for i in range(0,365):\n",
    "    sample = townsfolk_sampler(10)\n",
    "    mean = np.mean(sample)\n",
    "    daily_sample[\"Day num\"].append(i)\n",
    "    daily_sample[\"Sample\"].append(sample)\n",
    "    daily_sample[\"Mean\"].append(mean)\n",
    "#for i in daily_sample['Day num']:\n",
    "   # daily_sample[\"Mean\"].append(np.mean(daily_sample[\"Sample\"], daily_sample['Day num']==i))"
   ]
  },
  {
   "cell_type": "code",
   "execution_count": 37,
   "metadata": {},
   "outputs": [],
   "source": [
    "tsample = pd.DataFrame(daily_sample)"
   ]
  },
  {
   "cell_type": "code",
   "execution_count": 38,
   "metadata": {},
   "outputs": [
    {
     "name": "stdout",
     "output_type": "stream",
     "text": [
      "   Day num                                             Sample        Mean\n",
      "0        0  [179.04949004084014, 168.54189383610353, 181.7...  173.479114\n",
      "1        1  [169.96353025657277, 175.15960885952623, 177.0...  173.731767\n",
      "2        2  [171.5287462859318, 173.4897060555734, 172.075...  172.548939\n",
      "3        3  [168.57939161355623, 169.54392578109002, 167.5...  171.432573\n",
      "4        4  [176.64336688476055, 169.6801367543195, 175.41...  172.715161      Day num                                             Sample        Mean\n",
      "360      360  [171.698204349247, 170.19539630594224, 177.530...  173.200802\n",
      "361      361  [177.60655405712637, 164.80559971286067, 179.9...  172.855890\n",
      "362      362  [169.99748070288487, 168.82284639837474, 172.7...  171.902490\n",
      "363      363  [173.9836136704236, 173.65053183842534, 176.41...  170.457439\n",
      "364      364  [176.46323687199717, 165.94723936393783, 168.9...  171.644879\n"
     ]
    }
   ],
   "source": [
    "print(tsample.head(),tsample.tail())"
   ]
  },
  {
   "cell_type": "code",
   "execution_count": 39,
   "metadata": {},
   "outputs": [
    {
     "data": {
      "image/png": "[encoded data removed]",
      "text/plain": [
       "<Figure size 432x288 with 1 Axes>"
      ]
     },
     "metadata": {
      "needs_background": "light"
     },
     "output_type": "display_data"
    }
   ],
   "source": [
    "_ = plt.hist(tsample[\"Mean\"])\n",
    "_ = plt.xlabel('height (cm)')\n",
    "_ = plt.ylabel('number of people')\n",
    "_ = plt.title('Random Gen for one year')"
   ]
  },
  {
   "cell_type": "code",
   "execution_count": null,
   "metadata": {},
   "outputs": [],
   "source": []
  },
  {
   "cell_type": "markdown",
   "metadata": {},
   "source": [
    "The above is the distribution of the means of samples of size 10 taken from our population. The Central Limit Theorem tells us the expected mean of this distribution will be equal to the population mean, and standard deviation will be $\\sigma / \\sqrt n$, which, in this case, should be approximately 1.58."
   ]
  },
  {
   "cell_type": "markdown",
   "metadata": {},
   "source": [
    "__Q9:__ Verify the above results from the CLT."
   ]
  },
  {
   "cell_type": "markdown",
   "metadata": {},
   "source": [
    "__A:__"
   ]
  },
  {
   "cell_type": "code",
   "execution_count": 40,
   "metadata": {},
   "outputs": [
    {
     "name": "stdout",
     "output_type": "stream",
     "text": [
      "171.86600493586496 171.86600493586496\n"
     ]
    }
   ],
   "source": [
    "smeanx = np.mean(counted[\"Samples\"])\n",
    "smeanf = np.mean(smeanx)\n",
    "tmeanx = np.mean(counted[\"Mean\"])\n",
    "print(smeanf,tmeanx)"
   ]
  },
  {
   "cell_type": "code",
   "execution_count": 42,
   "metadata": {},
   "outputs": [
    {
     "name": "stdout",
     "output_type": "stream",
     "text": [
      "1.5756704135286477\n"
     ]
    }
   ],
   "source": [
    "sdev2 = np.std(counted[\"Mean\"])\n",
    "print(sdev2)"
   ]
  },
  {
   "cell_type": "code",
   "execution_count": 43,
   "metadata": {},
   "outputs": [
    {
     "name": "stdout",
     "output_type": "stream",
     "text": [
      "171.86600493586488 171.86600493586496\n"
     ]
    }
   ],
   "source": [
    "smean = np.mean(tsample[\"Sample\"])\n",
    "smean2 = np.mean(smean)\n",
    "tmean = np.mean(tsample[\"Mean\"])\n",
    "print(smean2,tmean)"
   ]
  },
  {
   "cell_type": "code",
   "execution_count": 45,
   "metadata": {},
   "outputs": [
    {
     "name": "stdout",
     "output_type": "stream",
     "text": [
      "1.5756704135286477\n"
     ]
    }
   ],
   "source": [
    "sdev = np.std(tsample[\"Mean\"])\n",
    "print(sdev)"
   ]
  },
  {
   "cell_type": "markdown",
   "metadata": {},
   "source": [
    "Remember, in this instance, we knew our population parameters, that the average height really is 172 cm and the standard deviation is 5 cm, and we see some of our daily estimates of the population mean were as low as around 168 and some as high as 176."
   ]
  },
  {
   "cell_type": "markdown",
   "metadata": {},
   "source": [
    "__Q10:__ Repeat the above year's worth of samples but for a sample size of 50 (perhaps you had a bigger budget for conducting surveys that year)! Would you expect your distribution of sample means to be wider (more variable) or narrower (more consistent)? Compare your resultant summary statistics to those predicted by the CLT."
   ]
  },
  {
   "cell_type": "markdown",
   "metadata": {},
   "source": [
    "__A:__"
   ]
  },
  {
   "cell_type": "code",
   "execution_count": 46,
   "metadata": {},
   "outputs": [],
   "source": [
    "seed(47)\n",
    "x2,y2=mltic(50,365)"
   ]
  },
  {
   "cell_type": "code",
   "execution_count": 47,
   "metadata": {},
   "outputs": [],
   "source": [
    "tsample2 = pd.DataFrame()\n",
    "tsample2['Samples'] = x2\n",
    "tsample2['Mean'] = pd.Series(y2)"
   ]
  },
  {
   "cell_type": "code",
   "execution_count": 48,
   "metadata": {},
   "outputs": [
    {
     "name": "stderr",
     "output_type": "stream",
     "text": [
      "C:\\Users\\InnovusDrac\\anaconda3\\lib\\site-packages\\numpy\\lib\\histograms.py:839: RuntimeWarning: invalid value encountered in greater_equal\n",
      "  keep = (tmp_a >= first_edge)\n",
      "C:\\Users\\InnovusDrac\\anaconda3\\lib\\site-packages\\numpy\\lib\\histograms.py:840: RuntimeWarning: invalid value encountered in less_equal\n",
      "  keep &= (tmp_a <= last_edge)\n"
     ]
    },
    {
     "data": {
      "image/png": "[encoded data removed]",
      "text/plain": [
       "<Figure size 432x288 with 1 Axes>"
      ]
     },
     "metadata": {
      "needs_background": "light"
     },
     "output_type": "display_data"
    }
   ],
   "source": [
    "_ = plt.hist(tsample2[\"Mean\"])\n",
    "_ = plt.xlabel('height (cm)')\n",
    "_ = plt.ylabel('number of people')\n",
    "_ = plt.title('Random Gen for one year')"
   ]
  },
  {
   "cell_type": "code",
   "execution_count": 49,
   "metadata": {},
   "outputs": [
    {
     "name": "stdout",
     "output_type": "stream",
     "text": [
      "171.86600493586488 171.94366080916114\n"
     ]
    }
   ],
   "source": [
    "smean3 = np.mean(tsample2[\"Samples\"])\n",
    "smean4 = np.mean(smean)\n",
    "tmean2 = np.mean(tsample2[\"Mean\"])\n",
    "print(smean4,tmean2)"
   ]
  },
  {
   "cell_type": "code",
   "execution_count": 104,
   "metadata": {},
   "outputs": [
    {
     "name": "stdout",
     "output_type": "stream",
     "text": [
      "1.5756704135286477\n"
     ]
    }
   ],
   "source": [
    "sdev3 = np.std(tsample2[\"Mean\"],ddof=1)\n",
    "print(sdev)"
   ]
  },
  {
   "cell_type": "markdown",
   "metadata": {},
   "source": [
    "What we've seen so far, then, is that we can estimate population parameters from a sample from the population, and that samples have their own distributions. Furthermore, the larger the sample size, the narrower are those sampling distributions."
   ]
  },
  {
   "cell_type": "markdown",
   "metadata": {},
   "source": [
    "### Normally testing time!"
   ]
  },
  {
   "cell_type": "markdown",
   "metadata": {},
   "source": [
    "All of the above is well and good. We've been sampling from a population we know is normally distributed, we've come to understand when to use $n$ and when to use $n-1$ in the denominator to calculate the spread of a distribution, and we've  seen the Central Limit Theorem in action for a sampling distribution. All seems very well behaved in Frequentist land. But, well, why should we really care?"
   ]
  },
  {
   "cell_type": "markdown",
   "metadata": {},
   "source": [
    "Remember, we rarely (if ever) actually know our population parameters but we still have to estimate them somehow. If we want to make inferences to conclusions like \"this observation is unusual\" or \"my population mean has changed\" then we need to have some idea of what the underlying distribution is so we can calculate relevant probabilities. In frequentist inference, we use the formulae above to deduce these population parameters. Take a moment in the next part of this assignment to refresh your understanding of how these probabilities work."
   ]
  },
  {
   "cell_type": "markdown",
   "metadata": {},
   "source": [
    "###### Recall some basic properties of the standard normal distribution, such as that about 68% of observations are within plus or minus 1 standard deviation of the mean. Check out the precise definition of a normal distribution on p. 394 of *AoS*. \n",
    "\n",
    "__Q11:__ Using this fact, calculate the probability of observing the value 1 or less in a single observation from the standard normal distribution. Hint: you may find it helpful to sketch the standard normal distribution (the familiar bell shape) and mark the number of standard deviations from the mean on the x-axis and shade the regions of the curve that contain certain percentages of the population."
   ]
  },
  {
   "cell_type": "markdown",
   "metadata": {},
   "source": [
    "__A:__I might need clarification on this one\n"
   ]
  },
  {
   "cell_type": "markdown",
   "metadata": {},
   "source": [
    "###### Calculating this probability involved calculating the area under the curve from the value of 1 and below. To put it in mathematical terms, we need to *integrate* the probability density function. We could just add together the known areas of chunks (from -Inf to 0 and then 0 to $+\\sigma$ in the example above). One way to do this is to look up tables (literally). Fortunately, scipy has this functionality built in with the cdf() function."
   ]
  },
  {
   "cell_type": "markdown",
   "metadata": {},
   "source": [
    "__Q12:__ Use the cdf() function to answer the question above again and verify you get the same answer."
   ]
  },
  {
   "cell_type": "markdown",
   "metadata": {},
   "source": [
    "__A:__"
   ]
  },
  {
   "cell_type": "code",
   "execution_count": 57,
   "metadata": {},
   "outputs": [],
   "source": [
    "xm = norm.cdf(y)\n",
    "#x and y are similar on this, I have tested both and they keep giving 1.0, x has more values"
   ]
  },
  {
   "cell_type": "code",
   "execution_count": 58,
   "metadata": {},
   "outputs": [],
   "source": [
    "y2 = norm.cdf(tmean2)"
   ]
  },
  {
   "cell_type": "code",
   "execution_count": 59,
   "metadata": {},
   "outputs": [
    {
     "name": "stdout",
     "output_type": "stream",
     "text": [
      "1.0 [1. 1. 1. 1. 1. 1. 1. 1. 1. 1. 1. 1. 1. 1. 1. 1. 1. 1. 1. 1. 1. 1. 1. 1.\n",
      " 1. 1. 1. 1. 1. 1. 1. 1. 1. 1. 1. 1. 1. 1. 1. 1. 1. 1. 1. 1. 1. 1. 1. 1.\n",
      " 1. 1. 1. 1. 1. 1. 1. 1. 1. 1. 1. 1. 1. 1. 1. 1. 1. 1. 1. 1. 1. 1. 1. 1.\n",
      " 1. 1. 1. 1. 1. 1. 1. 1. 1. 1. 1. 1. 1. 1. 1. 1. 1. 1. 1. 1. 1. 1. 1. 1.\n",
      " 1. 1. 1. 1. 1. 1. 1. 1. 1. 1. 1. 1. 1. 1. 1. 1. 1. 1. 1. 1. 1. 1. 1. 1.\n",
      " 1. 1. 1. 1. 1. 1. 1. 1. 1. 1. 1. 1. 1. 1. 1. 1. 1. 1. 1. 1. 1. 1. 1. 1.\n",
      " 1. 1. 1. 1. 1. 1. 1. 1. 1. 1. 1. 1. 1. 1. 1. 1. 1. 1. 1. 1. 1. 1. 1. 1.\n",
      " 1. 1. 1. 1. 1. 1. 1. 1. 1. 1. 1. 1. 1. 1. 1. 1. 1. 1. 1. 1. 1. 1. 1. 1.\n",
      " 1. 1. 1. 1. 1. 1. 1. 1. 1. 1. 1. 1. 1. 1. 1. 1. 1. 1. 1. 1. 1. 1. 1. 1.\n",
      " 1. 1. 1. 1. 1. 1. 1. 1. 1. 1. 1. 1. 1. 1. 1. 1. 1. 1. 1. 1. 1. 1. 1. 1.\n",
      " 1. 1. 1. 1. 1. 1. 1. 1. 1. 1. 1. 1. 1. 1. 1. 1. 1. 1. 1. 1. 1. 1. 1. 1.\n",
      " 1. 1. 1. 1. 1. 1. 1. 1. 1. 1. 1. 1. 1. 1. 1. 1. 1. 1. 1. 1. 1. 1. 1. 1.\n",
      " 1. 1. 1. 1. 1. 1. 1. 1. 1. 1. 1. 1. 1. 1. 1. 1. 1. 1. 1. 1. 1. 1. 1. 1.\n",
      " 1. 1. 1. 1. 1. 1. 1. 1. 1. 1. 1. 1. 1. 1. 1. 1. 1. 1. 1. 1. 1. 1. 1. 1.\n",
      " 1. 1. 1. 1. 1. 1. 1. 1. 1. 1. 1. 1. 1. 1. 1. 1. 1. 1. 1. 1. 1. 1. 1. 1.\n",
      " 1. 1. 1. 1. 1.]\n"
     ]
    }
   ],
   "source": [
    "print(y2,xm)"
   ]
  },
  {
   "cell_type": "code",
   "execution_count": 77,
   "metadata": {},
   "outputs": [
    {
     "data": {
      "text/plain": [
       "dtype('float64')"
      ]
     },
     "execution_count": 77,
     "metadata": {},
     "output_type": "execute_result"
    }
   ],
   "source": [
    "tsample2['Samples'].dtypes"
   ]
  },
  {
   "cell_type": "code",
   "execution_count": 83,
   "metadata": {},
   "outputs": [],
   "source": [
    "tsample2 =tsample2.round()"
   ]
  },
  {
   "cell_type": "code",
   "execution_count": 84,
   "metadata": {},
   "outputs": [
    {
     "data": {
      "text/plain": [
       "0        179.0\n",
       "1        169.0\n",
       "2        182.0\n",
       "3        177.0\n",
       "4        166.0\n",
       "         ...  \n",
       "18245    174.0\n",
       "18246    175.0\n",
       "18247    172.0\n",
       "18248    185.0\n",
       "18249    187.0\n",
       "Name: Samples, Length: 18250, dtype: float64"
      ]
     },
     "execution_count": 84,
     "metadata": {},
     "output_type": "execute_result"
    }
   ],
   "source": [
    "tsample2['Samples']"
   ]
  },
  {
   "cell_type": "code",
   "execution_count": 90,
   "metadata": {},
   "outputs": [
    {
     "data": {
      "text/html": [
       "<div>\n",
       "<style scoped>\n",
       "    .dataframe tbody tr th:only-of-type {\n",
       "        vertical-align: middle;\n",
       "    }\n",
       "\n",
       "    .dataframe tbody tr th {\n",
       "        vertical-align: top;\n",
       "    }\n",
       "\n",
       "    .dataframe thead th {\n",
       "        text-align: right;\n",
       "    }\n",
       "</style>\n",
       "<table border=\"1\" class=\"dataframe\">\n",
       "  <thead>\n",
       "    <tr style=\"text-align: right;\">\n",
       "      <th></th>\n",
       "      <th>Samples</th>\n",
       "      <th>Mean</th>\n",
       "    </tr>\n",
       "  </thead>\n",
       "  <tbody>\n",
       "    <tr>\n",
       "      <th>0</th>\n",
       "      <td>179.0</td>\n",
       "      <td>173.0</td>\n",
       "    </tr>\n",
       "    <tr>\n",
       "      <th>2</th>\n",
       "      <td>182.0</td>\n",
       "      <td>173.0</td>\n",
       "    </tr>\n",
       "    <tr>\n",
       "      <th>3</th>\n",
       "      <td>177.0</td>\n",
       "      <td>173.0</td>\n",
       "    </tr>\n",
       "    <tr>\n",
       "      <th>6</th>\n",
       "      <td>179.0</td>\n",
       "      <td>172.0</td>\n",
       "    </tr>\n",
       "    <tr>\n",
       "      <th>8</th>\n",
       "      <td>177.0</td>\n",
       "      <td>172.0</td>\n",
       "    </tr>\n",
       "    <tr>\n",
       "      <th>...</th>\n",
       "      <td>...</td>\n",
       "      <td>...</td>\n",
       "    </tr>\n",
       "    <tr>\n",
       "      <th>18230</th>\n",
       "      <td>178.0</td>\n",
       "      <td>NaN</td>\n",
       "    </tr>\n",
       "    <tr>\n",
       "      <th>18237</th>\n",
       "      <td>178.0</td>\n",
       "      <td>NaN</td>\n",
       "    </tr>\n",
       "    <tr>\n",
       "      <th>18244</th>\n",
       "      <td>177.0</td>\n",
       "      <td>NaN</td>\n",
       "    </tr>\n",
       "    <tr>\n",
       "      <th>18248</th>\n",
       "      <td>185.0</td>\n",
       "      <td>NaN</td>\n",
       "    </tr>\n",
       "    <tr>\n",
       "      <th>18249</th>\n",
       "      <td>187.0</td>\n",
       "      <td>NaN</td>\n",
       "    </tr>\n",
       "  </tbody>\n",
       "</table>\n",
       "<p>3315 rows × 2 columns</p>\n",
       "</div>"
      ],
      "text/plain": [
       "       Samples   Mean\n",
       "0        179.0  173.0\n",
       "2        182.0  173.0\n",
       "3        177.0  173.0\n",
       "6        179.0  172.0\n",
       "8        177.0  172.0\n",
       "...        ...    ...\n",
       "18230    178.0    NaN\n",
       "18237    178.0    NaN\n",
       "18244    177.0    NaN\n",
       "18248    185.0    NaN\n",
       "18249    187.0    NaN\n",
       "\n",
       "[3315 rows x 2 columns]"
      ]
     },
     "execution_count": 90,
     "metadata": {},
     "output_type": "execute_result"
    }
   ],
   "source": [
    "tsample2[tsample2['Samples']>=177.00]"
   ]
  },
  {
   "cell_type": "markdown",
   "metadata": {},
   "source": [
    "__Q13:__ Using our knowledge of the population parameters for our townsfolks' heights, what is the probability of selecting one person at random and their height being 177 cm or less? Calculate this using both of the approaches given above."
   ]
  },
  {
   "cell_type": "markdown",
   "metadata": {},
   "source": [
    "__A:__"
   ]
  },
  {
   "cell_type": "code",
   "execution_count": 92,
   "metadata": {},
   "outputs": [
    {
     "name": "stdout",
     "output_type": "stream",
     "text": [
      ": 0.18164383561643835\n"
     ]
    }
   ],
   "source": [
    "prob = len(tsample2[tsample2['Samples']>=177.00]) / len(tsample2)\n",
    "print(':', prob)"
   ]
  },
  {
   "cell_type": "markdown",
   "metadata": {},
   "source": [
    "__Q14:__ Turning this question around — suppose we randomly pick one person and measure their height and find they are 2.00 m tall. How surprised should we be at this result, given what we know about the population distribution? In other words, how likely would it be to obtain a value at least as extreme as this? Express this as a probability. "
   ]
  },
  {
   "cell_type": "markdown",
   "metadata": {},
   "source": [
    "__A:__"
   ]
  },
  {
   "cell_type": "code",
   "execution_count": 93,
   "metadata": {},
   "outputs": [
    {
     "name": "stdout",
     "output_type": "stream",
     "text": [
      ": 0.06652054794520548\n"
     ]
    }
   ],
   "source": [
    "prob = len(tsample2[tsample2['Samples']>=180.00]) / len(tsample2)\n",
    "print(':', prob)"
   ]
  },
  {
   "cell_type": "markdown",
   "metadata": {},
   "source": [
    "What we've just done is calculate the ***p-value*** of the observation of someone 2.00m tall (review *p*-values if you need to on p. 399 of *AoS*). We could calculate this probability by virtue of knowing the population parameters. We were then able to use the known properties of the relevant normal distribution to calculate the probability of observing a value at least as extreme as our test value."
   ]
  },
  {
   "cell_type": "markdown",
   "metadata": {},
   "source": [
    "We're about to come to a pinch, though. We've said a couple of times that we rarely, if ever, know the true population parameters; we have to estimate them from our sample and we cannot even begin to estimate the standard deviation from a single observation. \n",
    "\n",
    "This is very true and usually we have sample sizes larger than one. This means we can calculate the mean of the sample as our best estimate of the population mean and the standard deviation as our best estimate of the population standard deviation. \n",
    "\n",
    "In other words, we are now coming to deal with the sampling distributions we mentioned above as we are generally concerned with the properties of the sample means we obtain. \n",
    "\n",
    "Above, we highlighted one result from the CLT, whereby the sampling distribution (of the mean) becomes narrower and narrower with the square root of the sample size. We remind ourselves that another result from the CLT is that _even if the underlying population distribution is not normal, the sampling distribution will tend to become normal with sufficiently large sample size_. (**Check out p. 199 of AoS if you need to revise this**). This is the key driver for us 'requiring' a certain sample size, for example you may frequently see a minimum sample size of 30 stated in many places. In reality this is simply a rule of thumb; if the underlying distribution is approximately normal then your sampling distribution will already be pretty normal, but if the underlying distribution is heavily skewed then you'd want to increase your sample size."
   ]
  },
  {
   "cell_type": "markdown",
   "metadata": {},
   "source": [
    "__Q15:__ Let's now start from the position of knowing nothing about the heights of people in our town.\n",
    "* Use the random seed of 47, to randomly sample the heights of 50 townsfolk\n",
    "* Estimate the population mean using np.mean\n",
    "* Estimate the population standard deviation using np.std (remember which denominator to use!)\n",
    "* Calculate the (95%) [margin of error](https://www.statisticshowto.datasciencecentral.com/probability-and-statistics/hypothesis-testing/margin-of-error/#WhatMofE) (use the exact critial z value to 2 decimal places - [look this up](https://www.statisticshowto.datasciencecentral.com/probability-and-statistics/find-critical-values/) or use norm.ppf()) Recall that the ***margin of error*** is mentioned on p. 189 of the *AoS* and discussed in depth in that chapter). \n",
    "* Calculate the 95% Confidence Interval of the mean (***confidence intervals*** are defined on p. 385 of *AoS*) \n",
    "* Does this interval include the true population mean?"
   ]
  },
  {
   "cell_type": "markdown",
   "metadata": {},
   "source": [
    "__A:__"
   ]
  },
  {
   "cell_type": "code",
   "execution_count": 99,
   "metadata": {},
   "outputs": [],
   "source": [
    "seed(47)\n",
    "# take your sample now\n",
    "fsample = townsfolk_sampler(50)"
   ]
  },
  {
   "cell_type": "code",
   "execution_count": 102,
   "metadata": {},
   "outputs": [
    {
     "data": {
      "text/plain": [
       "[179.04949004084014,\n",
       " 168.54189383610353,\n",
       " 181.71974048130906,\n",
       " 176.56433732723997,\n",
       " 165.91968051972404,\n",
       " 170.65629646435846,\n",
       " 179.37664508857696,\n",
       " 166.4010398756342,\n",
       " 177.1510503393935,\n",
       " 169.4109704431706,\n",
       " 169.96353025657277,\n",
       " 175.15960885952623,\n",
       " 177.08203296308574,\n",
       " 175.57499515846146,\n",
       " 174.54290108507521,\n",
       " 172.47967099082933,\n",
       " 168.61822611729664,\n",
       " 174.73274884188947,\n",
       " 170.88926243618542,\n",
       " 178.2746899273406,\n",
       " 171.5287462859318,\n",
       " 173.4897060555734,\n",
       " 172.07524559808795,\n",
       " 172.29707499479943,\n",
       " 171.58202648312852,\n",
       " 169.8448035201747,\n",
       " 178.6710424580559,\n",
       " 174.28346435755896,\n",
       " 174.29645483303324,\n",
       " 167.42082214126637,\n",
       " 168.57939161355623,\n",
       " 169.54392578109002,\n",
       " 167.58621293448735,\n",
       " 176.86570940040758,\n",
       " 164.2575536629967,\n",
       " 177.38929575300472,\n",
       " 171.9796448820775,\n",
       " 164.941360536674,\n",
       " 177.90675289493535,\n",
       " 175.27588449616727,\n",
       " 176.64336688476055,\n",
       " 169.6801367543195,\n",
       " 175.41851965918934,\n",
       " 171.940891903986,\n",
       " 179.69843965088225,\n",
       " 169.93651872075313,\n",
       " 169.33209809727524,\n",
       " 172.17010875949248,\n",
       " 171.18783137803553,\n",
       " 171.14370133962512]"
      ]
     },
     "execution_count": 102,
     "metadata": {},
     "output_type": "execute_result"
    }
   ],
   "source": [
    "fsample = fsample.tolist()\n",
    "fsample"
   ]
  },
  {
   "cell_type": "code",
   "execution_count": 103,
   "metadata": {},
   "outputs": [
    {
     "data": {
      "text/plain": [
       "172.7815108576788"
      ]
     },
     "execution_count": 103,
     "metadata": {},
     "output_type": "execute_result"
    }
   ],
   "source": [
    "fmean = np.mean(fsample)\n",
    "fmean"
   ]
  },
  {
   "cell_type": "code",
   "execution_count": 106,
   "metadata": {},
   "outputs": [
    {
     "data": {
      "text/plain": [
       "4.195424364433547"
      ]
     },
     "execution_count": 106,
     "metadata": {},
     "output_type": "execute_result"
    }
   ],
   "source": [
    "fstd = np.std(fsample,ddof=1)\n",
    "fstd"
   ]
  },
  {
   "cell_type": "code",
   "execution_count": 114,
   "metadata": {},
   "outputs": [
    {
     "data": {
      "text/plain": [
       "1.1628909342876539"
      ]
     },
     "execution_count": 114,
     "metadata": {},
     "output_type": "execute_result"
    }
   ],
   "source": [
    "import scipy.stats as st\n",
    "import math\n",
    "sample_size = 50\n",
    "z = st.norm.ppf(q = 0.975)\n",
    "#error = error.round()\n",
    "z\n",
    "margin = z * (fstd/math.sqrt(sample_size))\n",
    "margin"
   ]
  },
  {
   "cell_type": "code",
   "execution_count": 115,
   "metadata": {},
   "outputs": [
    {
     "data": {
      "text/plain": [
       "(171.589184447403, 173.9738372679546)"
      ]
     },
     "execution_count": 115,
     "metadata": {},
     "output_type": "execute_result"
    }
   ],
   "source": [
    "import scipy.stats as st\n",
    "st.t.interval(alpha=0.95, df=len(fsample)-1, loc=np.mean(fsample), scale=st.sem(fsample)) "
   ]
  },
  {
   "cell_type": "markdown",
   "metadata": {},
   "source": [
    "A: yes, yes it does"
   ]
  },
  {
   "cell_type": "markdown",
   "metadata": {},
   "source": [
    "__Q16:__ Above, we calculated the confidence interval using the critical z value. What is the problem with this? What requirement, or requirements, are we (strictly) failing?"
   ]
  },
  {
   "cell_type": "markdown",
   "metadata": {},
   "source": [
    "__A:__We need more information, will discuss later.  This is my answer for now:\n",
    "We decided on a 95% as it is a good starting standard, depending on the sample size and methodology that might not be what we desire.  Also we need to look at the standard deviations with this compared to the curve and other features."
   ]
  },
  {
   "cell_type": "markdown",
   "metadata": {},
   "source": [
    "__Q17:__ Calculate the 95% confidence interval for the mean using the _t_ distribution. Is this wider or narrower than that based on the normal distribution above? If you're unsure, you may find this [resource](https://www.statisticshowto.datasciencecentral.com/probability-and-statistics/confidence-interval/) useful. For calculating the critical value, remember how you could calculate this for the normal distribution using norm.ppf()."
   ]
  },
  {
   "cell_type": "markdown",
   "metadata": {},
   "source": [
    "__A:__"
   ]
  },
  {
   "cell_type": "code",
   "execution_count": 118,
   "metadata": {},
   "outputs": [
    {
     "data": {
      "text/plain": [
       "2.009575234489209"
      ]
     },
     "execution_count": 118,
     "metadata": {},
     "output_type": "execute_result"
    }
   ],
   "source": [
    "t = t_critical = st.t.ppf(q = 0.975,df=49)\n",
    "t"
   ]
  },
  {
   "cell_type": "code",
   "execution_count": 120,
   "metadata": {},
   "outputs": [
    {
     "name": "stdout",
     "output_type": "stream",
     "text": [
      "Confidence interval:\n",
      "(171.589184447403, 173.9738372679546)\n",
      "Margin of error:\n",
      "1.1923264102757953\n"
     ]
    }
   ],
   "source": [
    "sigma = fstd/math.sqrt(sample_size)  # Standard deviation estimate\n",
    "margin_of_error = t * sigma\n",
    "\n",
    "confidence_interval = (fmean - margin_of_error,\n",
    "                       fmean + margin_of_error)  \n",
    "\n",
    "print(\"Confidence interval:\")\n",
    "print(confidence_interval)\n",
    "print('Margin of error:')\n",
    "print(margin_of_error)"
   ]
  },
  {
   "cell_type": "code",
   "execution_count": null,
   "metadata": {},
   "outputs": [],
   "source": []
  },
  {
   "cell_type": "markdown",
   "metadata": {},
   "source": [
    "This is slightly wider than the previous confidence interval. This reflects the greater uncertainty given that we are estimating population parameters from a sample."
   ]
  },
  {
   "cell_type": "markdown",
   "metadata": {},
   "source": [
    "## 4. Learning outcomes"
   ]
  },
  {
   "cell_type": "markdown",
   "metadata": {},
   "source": [
    "Having completed this project notebook, you now have hands-on experience:\n",
    "* sampling and calculating probabilities from a normal distribution\n",
    "* identifying the correct way to estimate the standard deviation of a population (the population parameter) from a sample\n",
    "* with sampling distribution and now know how the Central Limit Theorem applies\n",
    "* with how to calculate critical values and confidence intervals"
   ]
  },
  {
   "cell_type": "markdown",
   "metadata": {},
   "source": [
    "Note to mentor, I have questions."
   ]
  },
  {
   "cell_type": "code",
   "execution_count": null,
   "metadata": {},
   "outputs": [],
   "source": []
  }
 ],
 "metadata": {
  "kernelspec": {
   "display_name": "Python 3",
   "language": "python",
   "name": "python3"
  }
 },
 "nbformat": 4,
 "nbformat_minor": 2
}
